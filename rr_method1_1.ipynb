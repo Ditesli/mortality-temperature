{
 "cells": [
  {
   "cell_type": "code",
   "execution_count": 1,
   "metadata": {},
   "outputs": [],
   "source": [
    "import numpy as np\n",
    "import pandas as pd\n",
    "import xarray as xr\n",
    "import matplotlib.pyplot as plt\n",
    "from generate_daily_temp import daily_temp_interp, create_noise, daily_temp_era5\n",
    "from relative_risk_calculation import shift_rr, tz_tmrel_combinations, create_population_df, rr_paf_rr\n",
    "from read_files import get_annual_pop, read_climate_data, read_IMAGEregions_and_TempZone, get_erf_dataframe, get_tmrel_map"
   ]
  },
  {
   "cell_type": "code",
   "execution_count": 5,
   "metadata": {},
   "outputs": [],
   "source": [
    "wdir = 'X:\\\\user\\\\liprandicn\\\\Health Impacts Model'\n",
    "\n",
    "### Define important variables\n",
    "ssp =  'SSP2_CP' # 'SSP1_M', SSP2_CP, SSP3_H, SSP5_H\n",
    "years = range(2010,2101) # range(2010,2101)\n",
    "std_value = 5 # [1,5,10]\n",
    "ccategories = ['C8'] # ['C1', 'C2', 'C3', 'C4', 'C5', 'C6', 'C7', 'C8']"
   ]
  },
  {
   "cell_type": "code",
   "execution_count": null,
   "metadata": {},
   "outputs": [],
   "source": [
    "# Load nc files that serve to generate artificial daily temperature\n",
    "gcm_diff, gcm_start, gcm_end, cc_path_mean = read_climate_data()\n",
    "# Load nc files that cointain the IMAGE region classification and the temperature zones\n",
    "image_regions, temperature_zones = read_IMAGEregions_and_TempZone()\n",
    "# Load Exposure Response Funciton files for the relevant diseases, select mean (draw) and locate them in a df with the right format\n",
    "df_erf, diseases, min_dict, max_dict = get_erf_dataframe(wdir, all=False, mean=True, random_draw=False, draw=None)\n",
    "# Load population nc file of the selected scenario\n",
    "pop_ssp = get_annual_pop(ssp)\n",
    "# Load file with optimal temperatures for 2020 (default year)\n",
    "tmrel = get_tmrel_map(wdir, 2020, mean=True, random_draw=False, draw=None)\n",
    "# Generate dataframe with rr shifted by the TMREL\n",
    "df_erf_tmrel = shift_rr(df_erf, tz_tmrel_combinations(pop_ssp, tmrel, temperature_zones), diseases)\n",
    "# Generate the daily temperature data variability\n",
    "noise, noise_leap = create_noise(std_value)"
   ]
  },
  {
   "cell_type": "code",
   "execution_count": null,
   "metadata": {},
   "outputs": [],
   "source": [
    "for ccategory in ccategories:    \n",
    "    \n",
    "    # Create final dataframe\n",
    "    rr_year = pd.DataFrame(index=range(1,27), columns=pd.MultiIndex.from_product([years, diseases, ['cold', 'hot', 'all']]))  \n",
    "\n",
    "    for year in years:\n",
    "        \n",
    "        daily_temp, num_days = daily_temp_interp(ccategory, year, cc_path_mean, gcm_diff, gcm_start, gcm_end, noise, noise_leap)\n",
    "        # daily_temp, num_days = daily_temp_era5(year, pop_ssp)\n",
    "\n",
    "        # Select population for the corresponding year\n",
    "        pop_ssp_year = pop_ssp.sel(time=f'{year}').mean('time').GPOP.values\n",
    "\n",
    "        # Set a mask of pixels for each IMAGE region\n",
    "        for region in range(1, 27):#\n",
    "            \n",
    "            # Get mask of \n",
    "            image_region_mask = (pop_ssp_year > 0.) & (image_regions == region)\n",
    "            \n",
    "            df_pop = create_population_df(image_region_mask, pop_ssp_year, temperature_zones, \n",
    "                                        daily_temp, tmrel, num_days, min_dict, max_dict)\n",
    "            \n",
    "            # df_counts[f'{year}'] = df_pop.groupby(['daily_temperature'])['population'].sum()\n",
    "            \n",
    "            # Merge the ERF with the grouped data to assign rr\n",
    "            df_all = pd.merge(df_pop, df_erf_tmrel,  on=['temperature_zone', 'daily_temperature', 'tmrel'], how='left')\n",
    "\n",
    "            # Make two new dataframes separating the cold and hot attributable deaths\n",
    "            df_cold = df_all[df_all['daily_temperature'] < df_all['tmrel']].copy()\n",
    "            df_hot = df_all[df_all['daily_temperature'] > df_all['tmrel']].copy()\n",
    "                \n",
    "            for df, temp_type in zip([df_hot, df_cold, df_all], ['hot', 'cold', 'all']):\n",
    "                rr_paf_rr(df, rr_year, diseases, year, region, temp_type)\n",
    "                \n",
    "        print(f'Year {year} done') \n",
    "            \n",
    "    # Save the results and temperature statistics\n",
    "    rr_year.to_csv(f'{wdir}\\\\output\\\\rr_m1-1_all-diseases_{ccategory}_2010-2100_{std_value}std.csv')\n",
    "    # rr_year.to_csv(f'{wdir}\\\\output\\\\rr_m1-1_all-diseases_{year}_era5.csv')  "
   ]
  },
  {
   "cell_type": "code",
   "execution_count": null,
   "metadata": {},
   "outputs": [],
   "source": []
  },
  {
   "cell_type": "code",
   "execution_count": null,
   "metadata": {},
   "outputs": [],
   "source": []
  },
  {
   "cell_type": "code",
   "execution_count": 9,
   "metadata": {},
   "outputs": [],
   "source": [
    "year = 2019\n",
    "image_regions = pd.read_csv(f'X:\\\\user\\\\liprandicn\\\\Health Impacts Model\\\\SocioeconomicData\\\\IMAGE_regions.csv',  index_col=0, header=0)\n",
    "\n",
    "### Load GBD mortality data and select specific year and \"all-ages\" group\n",
    "gbd_mortality = pd.read_csv(f'X:\\\\user\\\\liprandicn\\\\Health Impacts Model\\\\GBD_Data\\\\Mortality_Data\\\\IHME-GBD_2021_DATA-0dc55228.csv')\n",
    "gbd_mortality = gbd_mortality[(gbd_mortality['year'] == year) & (gbd_mortality['age_name'] == 'All ages')]\n",
    "\n",
    "# Make dictionary with mapping and invert it for mapping\n",
    "image_regions_dic = image_regions.set_index('Region')['GBD region'].apply(lambda x: x.split(', ')).to_dict()\n",
    "location_to_image_region = {loc: key for key, locations in image_regions_dic.items() for loc in locations}\n",
    "\n",
    "# Sum deaths per IMAGE region\n",
    "gbd_mortality[\"image_region\"] = gbd_mortality[\"location_name\"].map(location_to_image_region)\n",
    "gbd_mortality_image_region = gbd_mortality.groupby([\"image_region\", \"cause_name\"], as_index=False).agg({\"val\": \"sum\"})#, \"upper\": \"sum\", \"lower\": \"sum\"})\n",
    "gbd_mortality_image_region = gbd_mortality_image_region.pivot(index=\"image_region\", columns=\"cause_name\", values=\"val\").fillna(0).rename_axis(None, axis=1)"
   ]
  },
  {
   "cell_type": "code",
   "execution_count": null,
   "metadata": {},
   "outputs": [],
   "source": [
    "rr_year = pd.read_csv(f'{wdir}\\\\output\\\\rr_m1-1_all-diseases_{year}_era5.csv', header=[0,1,2])\n",
    "rr_year.set_index(image_regions['Region'], inplace=True)"
   ]
  },
  {
   "cell_type": "code",
   "execution_count": 11,
   "metadata": {},
   "outputs": [],
   "source": [
    "diseases_full_names = {'ckd':'Chronic kidney disease', 'cvd_cmp':'Cardiomyopathy and myocarditis', 'cvd_htn':'Hypertensive heart disease', \n",
    "            'cvd_ihd':'Ischemic heart disease', 'cvd_stroke':'Stroke', 'diabetes':'Diabetes mellitus',\n",
    "            'inj_animal':'Animal contact', 'inj_disaster':'Exposure to forces of nature', 'inj_drowning':'Drowning', \n",
    "            'inj_homicide':'Interpersonal violence', 'inj_mech':'Exposure to mechanical forces', \n",
    "            'inj_othunintent':'Other unintentional injuries', 'inj_suicide':'Self-harm', 'inj_trans_other':'Other transport injuries', \n",
    "            'inj_trans_road':'Road injuries', 'resp_copd':'Chronic obstructive pulmonary disease', 'lri':'Lower respiratory infections'}"
   ]
  },
  {
   "cell_type": "code",
   "execution_count": null,
   "metadata": {},
   "outputs": [],
   "source": [
    "dfs = {}\n",
    "dfs['rr_all'] = rr_year.xs('all', axis=1, level=2).xs(f'{year}', axis=1, level=0)\n",
    "dfs[f'rr_cold'] = rr_year.xs('cold', axis=1, level=2).xs(f'{year}', axis=1, level=0)\n",
    "dfs[f'rr_hot'] = rr_year.xs('hot', axis=1, level=2).xs(f'{year}', axis=1, level=0)\n",
    "\n",
    "\n",
    "for method in ['all', 'cold', 'hot']:\n",
    "        dfs[f'paf_{method}'] = pd.DataFrame().reindex_like(dfs[f'rr_{method}'])\n",
    "        for disease in diseases_full_names:\n",
    "                dfs[f'paf_{method}'][disease] = 1 - (1/dfs[f'rr_{method}'][disease])\n",
    "        dfs[f'mortality_{method}'] = pd.DataFrame().reindex_like(gbd_mortality_image_region)\n",
    "        for disease in diseases_full_names:\n",
    "                dfs[f'mortality_{method}'][diseases_full_names[disease]] = dfs[f'paf_{method}'][disease] * gbd_mortality_image_region[diseases_full_names[disease]] \n",
    "\n",
    "print(f'Global Attributable Burden: ALL = {int(dfs[f'mortality_all'].sum(axis=0).sum())}; COLD = {int(dfs[f'mortality_cold'].sum(axis=0).sum())}; HOT = {int(dfs[f'mortality_hot'].sum(axis=0).sum())}')"
   ]
  },
  {
   "cell_type": "code",
   "execution_count": null,
   "metadata": {},
   "outputs": [],
   "source": [
    "import matplotlib.cm as cm\n",
    "\n",
    "method = 'hot'\n",
    "cumval = 0\n",
    "fig = plt.figure(figsize=(12, 8))\n",
    "\n",
    "# Generate a color map for the diseases\n",
    "num_colors = len(diseases_full_names.keys())\n",
    "cmap = cm.get_cmap('tab20', num_colors)  \n",
    "disease_colors = {disease: cmap(i) for i, disease in enumerate(diseases_full_names.values())}\n",
    "\n",
    "df = dfs[f'mortality_{method}'][[diseases_full_names[d] for d in diseases_full_names.keys()]]\n",
    "# Generate the stacked bar plot\n",
    "for i, col in enumerate(df.columns):\n",
    "    color = disease_colors.get(col)  \n",
    "    plt.bar(df.index, df[col], bottom=cumval, color=color, label=col)\n",
    "    cumval = cumval + df[col]\n",
    "\n",
    "plt.xticks(rotation=90)\n",
    "plt.ylabel('Total number of deaths')\n",
    "plt.title(f'Total attributable deaths in {year} - {method} deaths')\n",
    "plt.legend()\n",
    "plt.show()"
   ]
  },
  {
   "cell_type": "code",
   "execution_count": null,
   "metadata": {},
   "outputs": [],
   "source": []
  }
 ],
 "metadata": {
  "kernelspec": {
   "display_name": "clone_imagepy312_base",
   "language": "python",
   "name": "python3"
  },
  "language_info": {
   "codemirror_mode": {
    "name": "ipython",
    "version": 3
   },
   "file_extension": ".py",
   "mimetype": "text/x-python",
   "name": "python",
   "nbconvert_exporter": "python",
   "pygments_lexer": "ipython3",
   "version": "3.12.7"
  }
 },
 "nbformat": 4,
 "nbformat_minor": 2
}
