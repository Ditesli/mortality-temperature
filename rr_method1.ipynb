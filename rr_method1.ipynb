{
 "cells": [
  {
   "cell_type": "code",
   "execution_count": 1,
   "metadata": {},
   "outputs": [],
   "source": [
    "import numpy as np\n",
    "import pandas as pd\n",
    "from generate_daily_temp import daily_temp_interp, create_noise, daily_temp_era5\n",
    "from rr_calculation import get_all_data_masked, get_pop_weighted_factors, get_paf_to_rr, get_array_from_mask, get_temp_array_from_mask\n",
    "from read_files import get_annual_pop, read_climate_data, read_greg_and_TempZone, open_all_diseases_data"
   ]
  },
  {
   "cell_type": "code",
   "execution_count": null,
   "metadata": {},
   "outputs": [],
   "source": [
    "### Define some variables and load important data\n",
    "ssp =  'SSP2_CP' # 'SSP1_M', SSP2_CP, SSP3_H, SSP5_H\n",
    "years = [2019] # range(2010,2101)\n",
    "std_values = [1] # [1,5,10]\n",
    "ccategories = ['C1'] # ['C1', 'C2', 'C3', 'C4', 'C5', 'C6', 'C7', 'C8']\n",
    "\n",
    "gcm_diff, gcm_start, gcm_end, cc_path_mean = read_climate_data()\n",
    "greg, era5_tz = read_greg_and_TempZone()\n",
    "diseases, erf, min_dict, max_dict = open_all_diseases_data()\n",
    "pop_ssp = get_annual_pop(ssp)"
   ]
  },
  {
   "cell_type": "code",
   "execution_count": null,
   "metadata": {},
   "outputs": [],
   "source": [
    "### Main code ###\n",
    "for std in std_values:\n",
    "    # Generate the daily temperature data variability\n",
    "    noise, noise_leap = create_noise(std)\n",
    "    \n",
    "    for ccategory in ccategories:\n",
    "        rr_year = pd.DataFrame(index=range(1,27), columns=pd.MultiIndex.from_product([years, diseases]))            \n",
    "        df_counts = pd.DataFrame(index=pd.MultiIndex.from_product([np.arange(1,27.,1), np.arange(-40,60.,0.1, dtype='float32').round(1)]))\n",
    "        \n",
    "        for year in years:\n",
    "            print(f'{ccategory} {year} started')\n",
    "            ### Generate annual daily temperature using dummy data (first line) or ERA5 reanalysis data (upon avaliability in folder)\n",
    "            # daily_temp, num_days = daily_temp_interp(ccategory, year, cc_path_mean, gcm_diff, gcm_start, gcm_end, noise, noise_leap)\n",
    "            daily_temp, num_days = daily_temp_era5(year, pop_ssp)\n",
    "            # Mask the relevant datasets with a layer of population data\n",
    "            greg_array, pop_array, meanTemp_array, dayTemp_array = get_all_data_masked(pop_ssp, year, num_days, greg, era5_tz, daily_temp)\n",
    "            # Calculate the population weighted factor for each daily temperature (1st decimal) in a given region and temperature zone\n",
    "            df = get_pop_weighted_factors(greg_array, pop_array, meanTemp_array, np.round(dayTemp_array,1))   \n",
    "            # Add daily temperature values to df_counts\n",
    "            df_counts[f'{year}'] = df.groupby(['greg','dailyTemp'])['pop'].sum()\n",
    "            # Clip dailyTemp values according to the temperatures available in the ERF, get PAF, aggregate and calculate RR\n",
    "            rr_year[year] = get_paf_to_rr(df, min_dict, max_dict, erf, diseases)\n",
    "            print(f'{year} done') ## Aproxx 25s per year\n",
    "\n",
    "        # Save the results and temperature statistics\n",
    "        # rr_year.to_csv(f'X:\\\\user\\\\liprandicn\\\\Health Module\\\\output\\\\rr_m1_all-diseases_{ccategory}_2010-2100_{std}std.csv')\n",
    "        rr_year.to_csv(f'X:\\\\user\\\\liprandicn\\\\Health Module\\\\output\\\\rr_m1_all-diseases_{year}_era5.csv')\n",
    "        # df_counts.to_csv(f'X:\\\\user\\\\liprandicn\\\\Health Module\\\\output\\\\dailyTemp_{ccategory}_2010-2100_{std}std.csv')    \n",
    "        df_counts.to_csv(f'X:\\\\user\\\\liprandicn\\\\Health Module\\\\output\\\\dailyTemp_{year}_era5.csv')   "
   ]
  },
  {
   "cell_type": "code",
   "execution_count": null,
   "metadata": {},
   "outputs": [],
   "source": []
  },
  {
   "cell_type": "code",
   "execution_count": null,
   "metadata": {},
   "outputs": [],
   "source": []
  }
 ],
 "metadata": {
  "kernelspec": {
   "display_name": "clone_imagepy312_base",
   "language": "python",
   "name": "python3"
  },
  "language_info": {
   "codemirror_mode": {
    "name": "ipython",
    "version": 3
   },
   "file_extension": ".py",
   "mimetype": "text/x-python",
   "name": "python",
   "nbconvert_exporter": "python",
   "pygments_lexer": "ipython3",
   "version": "3.12.7"
  }
 },
 "nbformat": 4,
 "nbformat_minor": 2
}
