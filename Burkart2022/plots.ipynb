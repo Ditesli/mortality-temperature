{
 "cells": [
  {
   "cell_type": "code",
   "execution_count": null,
   "metadata": {},
   "outputs": [],
   "source": [
    "import matplotlib.pyplot as plt\n",
    "import pandas as pd\n",
    "import numpy as np\n",
    "import os\n",
    "import glob\n",
    "import xarray as xr\n",
    "from collections import defaultdict\n",
    "from scipy.stats import gaussian_kde\n",
    "from scipy.integrate import simpson\n",
    "import matplotlib.cm as cm\n",
    "from matplotlib.colors import Normalize\n",
    "import matplotlib as mpl\n",
    "import pltkit\n",
    "import read_files as rf\n",
    "import generate_daily_temp as gdt\n",
    "# from paf_calculations import get_daily_rr\n",
    "\n",
    "wdir = 'X:\\\\user\\\\liprandicn\\\\Health Impacts Model'"
   ]
  },
  {
   "cell_type": "markdown",
   "metadata": {},
   "source": [
    "### Plots RR"
   ]
  },
  {
   "cell_type": "code",
   "execution_count": 2,
   "metadata": {},
   "outputs": [],
   "source": [
    "dfs = {}\n",
    "file_path = f'{wdir}\\\\output'\n",
    "\n",
    "for ccategory in pltkit.ccategories:\n",
    "    for std in pltkit.std_values:\n",
    "\n",
    "        method = 'm2'\n",
    "        key = f\"{ccategory}_{method}_{std}\"\n",
    "        file_name = f\"rr_{method}_resp_copd_{ccategory}_2010-2100_{std}std.csv\"\n",
    "        Path = os.path.isfile(f\"{file_path}\\\\{file_name}\")\n",
    "        if Path == True:\n",
    "                dfs[key] = pd.read_csv(f\"{file_path}\\\\{file_name}\", index_col=[0])\n",
    "                dfs[key] = dfs[key].set_index(pltkit.image_regions['Region']) \n",
    "  \n",
    "            \n",
    "        method = 'm1'\n",
    "        key = f\"{ccategory}_{method}_{std}\"\n",
    "        file_name = f\"rr_{method}_all-diseases_{ccategory}_2010-2100_{std}std.csv\"\n",
    "        Path = os.path.isfile(f\"{file_path}\\\\{file_name}\")\n",
    "        if Path == True:\n",
    "            dfs[key] = pd.read_csv(f\"{file_path}\\\\{file_name}\", index_col=[0], header=[0,1])\n",
    "            dfs[key].set_index(pltkit.image_regions['Region'], inplace=True)\n",
    "            \n",
    "            \n",
    "        method = 'm1-1'\n",
    "        key = f\"{ccategory}_{method}_{std}\"\n",
    "        file_name = f\"rr_{method}_all-diseases_{ccategory}_2010-2100_{std}std.csv\"\n",
    "        Path = os.path.isfile(f\"{file_path}\\\\{file_name}\")\n",
    "        if Path == True:\n",
    "            dfs[key] = pd.read_csv(f\"{file_path}\\\\{file_name}\", index_col=[0], header=[0,1,2])\n",
    "            dfs[key].set_index(pltkit.image_regions['Region'], inplace=True)"
   ]
  },
  {
   "cell_type": "markdown",
   "metadata": {},
   "source": [
    "#### Comparisson per IMAGE regions for one C-Category and disease"
   ]
  },
  {
   "cell_type": "code",
   "execution_count": null,
   "metadata": {},
   "outputs": [],
   "source": [
    "ccategory = 'C8'\n",
    "std = 5\n",
    "disease = 'lri'\n",
    "regions = dfs[f\"{ccategory}_m1_{std}\"].index \n",
    "colors = [pltkit.combined_cmap(i / len(regions)) for i in range(len(regions))]  \n",
    "\n",
    "fig, (ax1, ax2) = plt.subplots(1, 2, figsize=(12, 7))\n",
    "\n",
    "for i, region in enumerate(regions):\n",
    "    color = colors[i] \n",
    "    # ax1.plot(dfs[f'{ccategory}_m2_{std}'].columns, dfs[f'{ccategory}_m1_{std}'].xs(disease, axis=1, level=1).loc[region, :], label=region, color=color)\n",
    "    # ax2.plot(dfs[f'{ccategory}_m2_{std}'].columns, dfs[f'{ccategory}_m2_{std}'].loc[region, :], label=region, color=color)\n",
    "    # ax1.plot(dfs[f'{ccategory}_m2_{std}'].columns, dfs[f'{ccategory}_m1-1_{std}'].xs(disease, axis=1, level=1).xs('all', axis=1, level=1).loc[region, :], label=region, color=color)\n",
    "    ax1.plot(dfs[f'{ccategory}_m2_{std}'].columns, dfs[f'{ccategory}_m1-1_{std}'].xs(disease, axis=1, level=1).xs('cold', axis=1, level=1).loc[region, :], label=region, color=color)\n",
    "    ax2.plot(dfs[f'{ccategory}_m2_{std}'].columns, dfs[f'{ccategory}_m1-1_{std}'].xs(disease, axis=1, level=1).xs('hot', axis=1, level=1).loc[region, :], label=region, color=color)\n",
    "\n",
    "common_kwargs = {'xlabel': 'Year', 'ylabel': 'RR', 'xticks': pltkit.ticks_years, 'xtickslabels': pltkit.ticks_labels_years}\n",
    "pltkit.stylize_axes(ax1, title='M1-1 COLD', **common_kwargs)\n",
    "pltkit.stylize_axes(ax2, title='M1-1 HOT', **common_kwargs)\n",
    "# pltkit.stylize_axes(ax3, title='M1-1', **common_kwargs)\n",
    "\n",
    "pltkit.stylize_plot(legend=True, legend_kwargs={'loc':'upper center', 'bbox_to_anchor':(-0.15, -0.1), 'ncol': 5},\n",
    "                    suptitle=f'{ccategory} - {pltkit.diseases[disease]}', suptitle_kwargs={'fontsize': 14})"
   ]
  },
  {
   "cell_type": "markdown",
   "metadata": {},
   "source": [
    "#### Comparisson per category for one region"
   ]
  },
  {
   "cell_type": "code",
   "execution_count": null,
   "metadata": {},
   "outputs": [],
   "source": [
    "region = 'Russia region'\n",
    "std = 5\n",
    "\n",
    "fig, (ax1, ax2) = plt.subplots(1, 2, figsize=(16, 4))\n",
    "for ccategory in pltkit.ccategories:\n",
    "    ax1.plot(dfs[f\"{ccategory}_m1_{std}\"].xs(disease, axis=1, level=1).columns, dfs[f\"{ccategory}_m1_{std}\"].xs(disease, axis=1, level=1).loc[region, :], label=ccategory)\n",
    "    ax2.plot(dfs[f\"{ccategory}_m2_{std}\"].columns, dfs[f\"{ccategory}_m2_{std}\"].loc[region,:], label=ccategory)\n",
    "\n",
    "common_kwargs = {'xlabel': 'Year', 'ylabel': 'RR', 'xticks': pltkit.ticks_years, 'xtickslabels': pltkit.ticks_labels_years}\n",
    "pltkit.stylize_axes(ax1, title='M1', **common_kwargs)\n",
    "pltkit.stylize_axes(ax2, title='M2', **common_kwargs)\n",
    "\n",
    "pltkit.stylize_plot(suptitle=region, suptitle_kwargs={'fontsize': 14}, legend=True)"
   ]
  },
  {
   "cell_type": "markdown",
   "metadata": {},
   "source": [
    "#### Removing POP"
   ]
  },
  {
   "cell_type": "code",
   "execution_count": null,
   "metadata": {},
   "outputs": [],
   "source": [
    "file_name = f\"rr_{method}_all-diseases_C1_2010-2100_{std}std_POP.csv\"\n",
    "df_m1 = pd.read_csv(f\"{file_path}\\\\{file_name}\", index_col=[0], header=[0,1])\n",
    "df_m1.set_index(pltkit.image_regions['Region'], inplace=True)\n",
    "\n",
    "ccategory = 'C1'\n",
    "std = 5\n",
    "disease = 'resp_copd'\n",
    "regions = dfs[f\"{ccategory}_m1_{std}\"].index \n",
    "colors = [pltkit.combined_cmap(i / len(regions)) for i in range(len(regions))]  \n",
    "\n",
    "fig, (ax1, ax2) = plt.subplots(1, 2, figsize=(12, 7))\n",
    "\n",
    "for i, region in enumerate(regions):\n",
    "    color = colors[i] \n",
    "    ax1.plot(dfs[f'{ccategory}_m1_{std}'].xs(disease, axis=1, level=1).columns, dfs[f'{ccategory}_m1_{std}'].xs(disease, axis=1, level=1).loc[region, :], label=region, color=color)\n",
    "    ax2.plot(df_m1.xs(disease, axis=1, level=1).columns, df_m1.xs(disease, axis=1, level=1).loc[region, :], label=region, color=color)\n",
    "\n",
    "common_kwargs = {'xlabel': 'Year', 'ylabel': 'RR', 'xticks': pltkit.ticks_years, 'xtickslabels': pltkit.ticks_labels_years}\n",
    "pltkit.stylize_axes(ax1, title='M1 - SSP2 POP', **common_kwargs)\n",
    "pltkit.stylize_axes(ax2, title='M2 - 2010 POP', **common_kwargs)\n",
    "\n",
    "pltkit.stylize_plot(legend=True, legend_kwargs={'loc':'upper center', 'bbox_to_anchor':(-0.15, -0.1), 'ncol': 5},\n",
    "    suptitle=f'{ccategory} - {disease}', suptitle_kwargs={'fontsize': 14}, show=True)"
   ]
  },
  {
   "cell_type": "markdown",
   "metadata": {},
   "source": [
    "### Role of STD"
   ]
  },
  {
   "cell_type": "markdown",
   "metadata": {},
   "source": [
    "#### Plots without noise"
   ]
  },
  {
   "cell_type": "code",
   "execution_count": null,
   "metadata": {},
   "outputs": [],
   "source": [
    "ccategory =  'C8'\n",
    "std_values = '5'\n",
    "disease = 'resp_copd'\n",
    "\n",
    "df_wonoise_m1 = pd.read_csv(f\"{wdir}\\\\output\\\\rr_m1_all-diseases_{ccategory}_2010-2100_{std_values}std_wo-noise.csv\", index_col=[0], header=[0,1])\n",
    "df_wonoise_m1.set_index(pltkit.image_regions['Region'], inplace=True)\n",
    "df_wonoise_m2 = pd.read_csv(f\"{wdir}\\\\output\\\\rr_m2_resp_copd_{ccategory}_2010-2100_{std_values}std_wo-noise.csv\", index_col=[0])\n",
    "df_wonoise_m2.set_index(pltkit.image_regions['Region'], inplace=True)\n",
    "\n",
    "regions = df_wonoise_m2.index \n",
    "colors = [pltkit.combined_cmap(i / len(regions)) for i in range(len(regions))]  \n",
    "\n",
    "fig, (ax1, ax2) = plt.subplots(1, 2, figsize=(12, 7))\n",
    "\n",
    "for i, region in enumerate(regions):\n",
    "    color = colors[i] \n",
    "    ax1.plot(df_wonoise_m1.xs(disease, axis=1, level=1).columns, df_wonoise_m1.xs(disease, axis=1, level=1).loc[region, :], label=region, color=color)\n",
    "    ax2.plot(df_wonoise_m2.columns, df_wonoise_m2.loc[region, :], label=region, color=color)\n",
    "\n",
    "common_kwargs = {'xlabel': 'Year', 'ylabel': 'RR', 'xticks': pltkit.ticks_years, 'xtickslabels': pltkit.ticks_labels_years}\n",
    "pltkit.stylize_axes(ax1, title='M1', **common_kwargs)\n",
    "pltkit.stylize_axes(ax2, title='M2', ylim=(1,1.18), **common_kwargs)\n",
    "pltkit.stylize_plot(legend=True, legend_kwargs={'loc':'upper center', 'bbox_to_anchor':(-0.15, -0.1), 'ncol': 5},\n",
    "    suptitle=f'{ccategory} - {disease}', suptitle_kwargs={'fontsize': 14}, show=True)"
   ]
  },
  {
   "cell_type": "code",
   "execution_count": null,
   "metadata": {},
   "outputs": [],
   "source": [
    "region = 'Western Europe'\n",
    "std = 5\n",
    "\n",
    "fig, (ax1, ax2) = plt.subplots(1, 2, figsize=(16, 4))\n",
    "ax1.plot(df_wonoise_m1.xs(disease, axis=1, level=1).columns, df_wonoise_m1.xs(disease, axis=1, level=1).loc[region, :], label=ccategory)\n",
    "ax2.plot(df_wonoise_m2.columns, df_wonoise_m2.loc[region,:], label=ccategory)\n",
    "\n",
    "tick_positions = [0, 20, 40, 60, 80]  # Posiciones en el eje x\n",
    "tick_labels = dfs[f\"{ccategory}_m2_{std}\"].columns.values[tick_positions]  # Etiquetas correspondientes\n",
    "\n",
    "common_kwargs = {'xlabel': 'Year', 'ylabel': 'RR', 'xticks': tick_positions, 'xtickslabels': tick_labels}\n",
    "pltkit.stylize_axes(ax1, title='M1', **common_kwargs)\n",
    "pltkit.stylize_axes(ax2, title='M2', **common_kwargs)\n",
    "\n",
    "pltkit.stylize_plot(legend=True, suptitle=f'{region}', suptitle_kwargs={'fontsize': 14}, show=True)"
   ]
  },
  {
   "cell_type": "code",
   "execution_count": 8,
   "metadata": {},
   "outputs": [],
   "source": [
    "pdf_wonoise = pd.read_csv(f\"{wdir}\\\\output\\\\dailyTemp_C8_2010-2100_{std}std_wo-noise.csv\", index_col=[0,1])\n",
    "pdf_wonoise.index = pd.MultiIndex.from_product([pltkit.image_regions['Region'], pdf_wonoise.index.get_level_values(1)[:1000]])"
   ]
  },
  {
   "cell_type": "code",
   "execution_count": null,
   "metadata": {},
   "outputs": [],
   "source": [
    "region = 'Oceania'\n",
    "\n",
    "pdf_smooths = {}\n",
    "temps = pdf_wonoise.loc[region].index.to_numpy()\n",
    "for year in ['2010', '2030', '2050', '2100']:\n",
    "    pdf_values = pdf_wonoise.loc[region][year].fillna(0).to_numpy()\n",
    "    pdf_values /= pdf_values.sum() \n",
    "    kde = gaussian_kde(temps, weights=pdf_values)\n",
    "    temps_smooth = np.linspace(temps.min(), temps.max(), 500)  \n",
    "    pdf_smooths[year] = kde(temps_smooth)\n",
    "\n",
    "fig, (ax1, ax2) = plt.subplots(1, 2, figsize=(12, 4))\n",
    "\n",
    "ax1.plot(temps_smooth, pdf_smooths['2010'], color='C0', label='2010')\n",
    "ax1.axvline(x= (pdf_wonoise.loc[region].index*pdf_wonoise.loc[region]['2010']).sum(), color ='C0', ls='--')\n",
    "ax1.plot(temps_smooth, pdf_smooths['2050'], color='C1', label='2050')\n",
    "ax1.axvline(x= (pdf_wonoise.loc[region].index*pdf_wonoise.loc[region]['2050']).sum(), color ='C1', ls='--')\n",
    "ax1.plot(temps_smooth, pdf_smooths['2100'], color='C2', label='2100')\n",
    "ax1.axvline(x= (pdf_wonoise.loc[region].index*pdf_wonoise.loc[region]['2100']).sum(), color ='C2', ls='--')\n",
    "\n",
    "ax2.plot(df_wonoise_m1.xs(disease, axis=1, level=1).columns, df_wonoise_m1.xs(disease, axis=1, level=1).loc[region], label='M1', color='C5')\n",
    "ax2.plot(df_wonoise_m2.columns, df_wonoise_m2.loc[region, :], label='M2', color='C4')\n",
    "\n",
    "pltkit.stylize_axes(ax1, title=f'PDF 2010 vs 2100', xlabel=\"Daily temperature (°C)\", ylabel=\"Probability Density\",\n",
    "             legend=True, grid=True)\n",
    "pltkit.stylize_axes(ax2, title=f'M1 vs M2 - {disease}', xlabel=\"Year\", ylabel=\"RR\", xticks=tick_positions, xtickslabels=tick_labels,\n",
    "             legend=True, grid=True)\n",
    "pltkit.stylize_plot(suptitle=f'{region} - {ccategory} - Without noise', suptitle_kwargs={'fontsize': 14}, show=True)"
   ]
  },
  {
   "cell_type": "markdown",
   "metadata": {},
   "source": [
    "#### Comparisson per STD for all regions"
   ]
  },
  {
   "cell_type": "code",
   "execution_count": null,
   "metadata": {},
   "outputs": [],
   "source": [
    "ccategories_ = ['C1', 'C8']\n",
    "std_values = [1,5,10]\n",
    "disease = 'resp_copd'\n",
    "regions = dfs[f\"{ccategory}_m1_{std}\"].index \n",
    "colors = [pltkit.combined_cmap(i / len(regions)) for i in range(len(regions))]  \n",
    "\n",
    "fig, axs = plt.subplots(2, 3, figsize=(15, 10))\n",
    "\n",
    "for i, ccategory in enumerate(ccategories_):\n",
    "    for j, std in enumerate(std_values):\n",
    "        for k, region in enumerate(regions[:-1]):\n",
    "            color = colors[k] \n",
    "            # axs[i,j].plot(dfs[f'{ccategory}_m1_{std}'].xs(disease, axis=1, level=1).columns, dfs[f'{ccategory}_m1_{std}'].xs(disease, axis=1, level=1).loc[region, :], label=region, color=color)\n",
    "            axs[i,j].plot(dfs[f'{ccategory}_m2_{std}'].columns, dfs[f'{ccategory}_m2_{std}'].loc[region, :], label=region, color=color)\n",
    "\n",
    "for ax in axs.flat:\n",
    "    pltkit.stylize_axes(ax, xticks=pltkit.ticks_years, xtickslabels=pltkit.ticks_labels_years, ylim=(1.0, 1.19))  \n",
    "    \n",
    "for i, ax in enumerate(axs[0,:]):\n",
    "    ax.set_title(f'std_{std_values[i]}')\n",
    "    \n",
    "axs[0,0].set_ylabel('RR - C1')\n",
    "axs[1,0].set_ylabel('RR - C8')\n",
    "plt.legend(loc='upper center', bbox_to_anchor=(-0.7, -0.1), ncol=6) "
   ]
  },
  {
   "cell_type": "markdown",
   "metadata": {},
   "source": [
    "#### Comparisson per STD per IMAGE region"
   ]
  },
  {
   "cell_type": "code",
   "execution_count": null,
   "metadata": {},
   "outputs": [],
   "source": [
    "region = 'South Africa'\n",
    "\n",
    "fig, axs = plt.subplots(2, 3, figsize=(16, 8))\n",
    "\n",
    "for i, method in enumerate(pltkit.methods):\n",
    "    for j, std in enumerate(pltkit.std_values):\n",
    "        for k, ccategory in enumerate(pltkit.ccategories):\n",
    "            if i == 0 and f\"{ccategory}_{method}_{std}\" in dfs.keys():\n",
    "                axs[i,j].plot(dfs[f\"{ccategory}_{method}_{std}\"].xs(disease, axis=1, level=1).columns, dfs[f\"{ccategory}_{method}_{std}\"].xs(disease, axis=1, level=1).loc[region,:],\n",
    "                              label=ccategory, color=pltkit.original_colors[k])\n",
    "            if i == 1 and f\"{ccategory}_{method}_{std}\" in dfs.keys():\n",
    "                axs[i,j].plot(dfs[f\"{ccategory}_{method}_{std}\"].columns, dfs[f\"{ccategory}_{method}_{std}\"].loc[region,:], label=ccategory, color=pltkit.original_colors[k])\n",
    "        \n",
    "        pltkit.stylize_axes(axs[i,j], xticks=pltkit.ticks_years, xtickslabels=pltkit.ticks_labels_years, xlabel='Year', grid=True)    \n",
    "        axs[0,j].set_title(f'{std}')    \n",
    "        axs[i,0].set_ylabel(f'RR - {method}')\n",
    "        axs[0,j].set_ylim(1.015,1.11)\n",
    "        axs[1,j].set_ylim(1.05,1.13)\n",
    "pltkit.stylize_plot(legend=True, suptitle=region, suptitle_kwargs={'fontsize':14})        "
   ]
  },
  {
   "cell_type": "markdown",
   "metadata": {},
   "source": [
    "### Plot PDFs"
   ]
  },
  {
   "cell_type": "code",
   "execution_count": 12,
   "metadata": {},
   "outputs": [],
   "source": [
    "df_pdfs = {}\n",
    "for ccategory in pltkit.ccategories:\n",
    "    for std in [1,5,10]:# std_values:\n",
    "        key = f\"{ccategory}_{std}\"\n",
    "        df_pdfs[key] = pd.read_csv(f\"{wdir}\\\\output\\\\dailyTemp_{ccategory}_2010-2100_{std}std.csv\", index_col=[0,1])\n",
    "        df_pdfs[key].index = pd.MultiIndex.from_product([pltkit.image_regions['Region'], df_pdfs[key].index.get_level_values(1)[:1000]])\n",
    "        \n",
    "    for year in [1990, 2010, 2019]:\n",
    "        key = f'era5_{year}'\n",
    "        df_pdfs[key] = pd.read_csv(f\"{wdir}\\\\output\\\\dailyTemp_{year}_era5.csv\", index_col=[0,1])\n",
    "        df_pdfs[key].index = pd.MultiIndex.from_product([pltkit.image_regions['Region'], df_pdfs[key].index.get_level_values(1)[:1000]])"
   ]
  },
  {
   "cell_type": "markdown",
   "metadata": {},
   "source": [
    "#### Normal PDF (STD = 5)"
   ]
  },
  {
   "cell_type": "code",
   "execution_count": null,
   "metadata": {},
   "outputs": [],
   "source": [
    "region = 'Canada'\n",
    "ccategory = 'C1'\n",
    "std = 5\n",
    "\n",
    "pdf_smooths = {}\n",
    "temps = df_pdfs[f'{ccategory}_{std}'].loc[region].index.to_numpy()\n",
    "\n",
    "for year in ['2010', '2050', '2100']:\n",
    "    pdf_values = df_pdfs[f'{ccategory}_{std}'].loc[region][year].fillna(0).to_numpy()\n",
    "    pdf_values /= pdf_values.sum() \n",
    "    kde = gaussian_kde(temps, weights=pdf_values)\n",
    "    temps_smooth = np.linspace(temps.min(), temps.max(), 1000)  \n",
    "    pdf_smooths[year] = kde(temps_smooth)\n",
    "\n",
    "fig, (ax1, ax2) = plt.subplots(1, 2, figsize=(12, 4))\n",
    "\n",
    "ax1.plot(temps_smooth, pdf_smooths['2010'], color='C0', label='2010')\n",
    "ax1.axvline(x= (df_pdfs[f'{ccategory}_{std}'].loc[region].index*df_pdfs[f'{ccategory}_{std}'].loc[region]['2010']).sum(), color ='C0', ls='--')\n",
    "ax1.plot(temps_smooth, pdf_smooths['2050'], color='C1', label='2050')\n",
    "ax1.axvline(x= (df_pdfs[f'{ccategory}_{std}'].loc[region].index*df_pdfs[f'{ccategory}_{std}'].loc[region]['2050']).sum(), color ='C1', ls='--')\n",
    "ax1.plot(temps_smooth, pdf_smooths['2100'], color='C2', label='2100')\n",
    "ax1.axvline(x= (df_pdfs[f'{ccategory}_{std}'].loc[region].index*df_pdfs[f'{ccategory}_{std}'].loc[region]['2100']).sum(), color ='C2', ls='--')\n",
    "\n",
    "ax2.plot(dfs[f'{ccategory}_m1_{std}'].xs(disease, axis=1, level=1).columns, dfs[f'{ccategory}_m1_{std}'].xs(disease, axis=1, level=1).loc[region], label='M1', color='C5')\n",
    "ax2.plot(dfs[f'{ccategory}_m2_{std}'].columns, dfs[f'{ccategory}_m2_{std}'].loc[region, :], label='M2', color='C4')\n",
    "\n",
    "pltkit.stylize_axes(ax1, title=f'PDF 2010 vs 2100', xlabel=\"Daily temperature (°C)\", ylabel=\"Probability Density\",\n",
    "             legend=True, grid=True)\n",
    "pltkit.stylize_axes(ax2, title=f'M1 vs M2 - {disease}', xlabel=\"Year\", ylabel=\"RR\", xticks=tick_positions, xtickslabels=tick_labels,\n",
    "             legend=True, grid=True)\n",
    "pltkit.stylize_plot(suptitle=f'{region} - {ccategory}', suptitle_kwargs={'fontsize': 14}, show=True)"
   ]
  },
  {
   "cell_type": "markdown",
   "metadata": {},
   "source": [
    "#### Experiment PDFs x RRs"
   ]
  },
  {
   "cell_type": "code",
   "execution_count": null,
   "metadata": {},
   "outputs": [],
   "source": [
    "erf = pd.read_csv(f'{wdir}\\\\Response_Functions\\\\erf_reformatted2\\\\erf_resp_copd.csv', index_col=[1,2])\n",
    "tz = 6\n",
    "erf_tz = erf.loc[tz]\n",
    "erf_tz = erf_tz.reindex(np.arange(-40,60,0.1).round(1))\n",
    "erf_tz = erf_tz.ffill().bfill()\n",
    "for year in [2010, 2050, 2100]:\n",
    "    erf_tz[year] = pdf_smooths[f'{year}'] * erf_tz['rr']\n",
    "    \n",
    "plt.plot(erf_tz.index, erf_tz[2010], label='2010')\n",
    "plt.plot(erf_tz.index, erf_tz[2050], label='2050')\n",
    "plt.plot(erf_tz.index, erf_tz[2100], label='2100')\n",
    "plt.axvline(x=erf_tz.index[600], color='k', linestyle='--')\n",
    "\n",
    "print(\"area_2010_hot =\", simpson(erf_tz[2010].iloc[600:], dx=0.1))\n",
    "print('area_2010_cold =', simpson(erf_tz[2010].iloc[:600], dx=0.1))\n",
    "\n",
    "print(\"area_2050_hot =\", simpson(erf_tz[2050].iloc[600:], dx=0.1))\n",
    "print('area_2050_cold =', simpson(erf_tz[2050].iloc[:600], dx=0.1))\n",
    "\n",
    "print(\"area_2100_hot =\", simpson(erf_tz[2100].iloc[600:], dx=0.1))\n",
    "print('area_2100_cold =', simpson(erf_tz[2100].iloc[:600], dx=0.1))"
   ]
  },
  {
   "cell_type": "markdown",
   "metadata": {},
   "source": [
    "#### Plots to study the role of STD"
   ]
  },
  {
   "cell_type": "code",
   "execution_count": null,
   "metadata": {},
   "outputs": [],
   "source": [
    "# region = 'Korea region'\n",
    "ccategory = 'C1'\n",
    "\n",
    "pdf_smooths = {}\n",
    "temps = df_pdfs[f'{ccategory}_{std}'].loc[region].index.to_numpy()\n",
    "    \n",
    "fig, axs = plt.subplots(1, 3, figsize=(16, 4))\n",
    "\n",
    "for i,std in enumerate([1,5,10]):\n",
    "    for year in ['2010', '2050', '2100']:\n",
    "        pdf_values = df_pdfs[f'{ccategory}_{std}'].loc[region][year].fillna(0).to_numpy()\n",
    "        pdf_values /= pdf_values.sum() \n",
    "        kde = gaussian_kde(temps, weights=pdf_values)\n",
    "        temps_smooth = np.linspace(temps.min(), temps.max(), 500)  \n",
    "        pdf_smooths[f'{std}_{year}'] = kde(temps_smooth)\n",
    "        \n",
    "        axs[i].plot(temps_smooth, pdf_smooths[f'{std}_{year}'], label=year)\n",
    "        #axs[i].axvline(x= (df_pdfs[f'{ccategory}_{std}'].loc[region].index*df_pdfs[f'{ccategory}_{std}'].loc[region][year]).sum(), ls='--')\n",
    "        \n",
    "        pltkit.stylize_axes(axs[i], xlim=(0,60), ylim=(0,0.07), title=f'std_{std}', xlabel=\"Daily temperature (°C)\",\n",
    "                     legend=True, grid=True)\n",
    "axs[0].set_ylabel(\"Probability Density\") \n",
    "print(region)"
   ]
  },
  {
   "cell_type": "markdown",
   "metadata": {},
   "source": [
    "#### ERA5 vs dummy data PDFs"
   ]
  },
  {
   "cell_type": "code",
   "execution_count": null,
   "metadata": {},
   "outputs": [],
   "source": [
    "region = 'Canada'\n",
    "ccategory = 'C1'\n",
    "std = 5\n",
    "\n",
    "pdf_smooths = {}\n",
    "pdf_smooths_era5 = {}\n",
    "temps = df_pdfs[f'{ccategory}_{std}'].loc[region].index.to_numpy()\n",
    "\n",
    "\n",
    "fig, (ax1, ax2) = plt.subplots(1, 2, figsize=(12, 4))\n",
    "\n",
    "for year in ['2010', '2019']:\n",
    "    pdf_values = df_pdfs[f'{ccategory}_{std}'].loc[region][year].fillna(0).to_numpy()\n",
    "    pdf_values /= pdf_values.sum() \n",
    "    kde = gaussian_kde(temps, weights=pdf_values)\n",
    "    temps_smooth = np.linspace(temps.min(), temps.max(), 1000)  \n",
    "    pdf_smooths[year] = kde(temps_smooth)\n",
    "\n",
    "    ax1.plot(temps_smooth, pdf_smooths[year], label=year)\n",
    "    ax1.axvline(x= (df_pdfs[f'{ccategory}_{std}'].loc[region].index*df_pdfs[f'{ccategory}_{std}'].loc[region][year]).sum(), ls='--')\n",
    "    \n",
    "    pdf_values_era5 = df_pdfs[f'era5_{year}'].loc[region][year].fillna(0).to_numpy()\n",
    "    pdf_values_era5 /= pdf_values_era5.sum() \n",
    "    kde_era5 = gaussian_kde(temps, weights=pdf_values_era5)\n",
    "    temps_smooth_era5 = np.linspace(temps.min(), temps.max(), 1000)  \n",
    "    pdf_smooths_era5[year] = kde_era5(temps_smooth_era5)\n",
    "\n",
    "    ax2.plot(temps_smooth_era5, pdf_smooths_era5[year], label=year)\n",
    "    ax2.axvline(x= (df_pdfs[f'era5_{year}'].loc[region].index*df_pdfs[f'era5_{year}'].loc[region][year]).sum(), ls='--')\n",
    "\n",
    "for ax in (ax1, ax2):\n",
    "    # ax.set_xlim(0,40)\n",
    "    ax.legend()\n"
   ]
  },
  {
   "cell_type": "markdown",
   "metadata": {},
   "source": [
    "### Plots Present Day RR"
   ]
  },
  {
   "cell_type": "code",
   "execution_count": null,
   "metadata": {},
   "outputs": [],
   "source": [
    "###Select year\n",
    "year = 2019\n",
    "\n",
    "### Select specific year and \"all-ages\" group for GBD mortality data\n",
    "gbd_mortality = pltkit.gbd_mortality[(pltkit.gbd_mortality['year'] == year) & (pltkit.gbd_mortality['age'] == 'All ages')]\n",
    "\n",
    "# Make dictionary with mapping and invert it for mapping\n",
    "image_regions_dic = pltkit.image_regions.set_index('Region')['GBD region'].apply(lambda x: x.split(', ')).to_dict()\n",
    "location_to_image_region = {loc: key for key, locations in image_regions_dic.items() for loc in locations}\n",
    "\n",
    "# Sum deaths per IMAGE region\n",
    "gbd_mortality[\"image_region\"] = gbd_mortality[\"location\"].map(location_to_image_region)\n",
    "gbd_mortality_image_region = gbd_mortality.groupby([\"image_region\", \"cause\"], as_index=False).agg({\"val\": \"sum\"})#, \"upper\": \"sum\", \"lower\": \"sum\"})\n",
    "gbd_mortality_image_region = gbd_mortality_image_region.pivot(index=\"image_region\", columns=\"cause\", values=\"val\").fillna(0).rename_axis(None, axis=1)"
   ]
  },
  {
   "cell_type": "code",
   "execution_count": null,
   "metadata": {},
   "outputs": [],
   "source": [
    "gbd_mortality_image_region.sum(axis=0)"
   ]
  },
  {
   "cell_type": "code",
   "execution_count": null,
   "metadata": {},
   "outputs": [],
   "source": [
    "gbd_mortality.cause.unique()"
   ]
  },
  {
   "cell_type": "code",
   "execution_count": null,
   "metadata": {},
   "outputs": [],
   "source": [
    "### Load RRs dataframes and calculate the total attributable burden per disease and IMAGE region\n",
    "rr = {}\n",
    "for method in ['m1', 'm2']:\n",
    "    rr[f'rr_{method}'] = pd.read_csv(f'{wdir}\\\\output\\\\rr_{method}_all-diseases_{year}_era5.csv', index_col=[0], header=[0,1])\n",
    "    rr[f'rr_{method}'].set_index(pltkit.image_regions['Region'], inplace=True)\n",
    "    rr[f'rr_{method}'] = rr[f'rr_{method}'].xs(f'{year}', axis=1, level=0)\n",
    "    rr[f'paf_{method}'] = pd.DataFrame().reindex_like(rr[f'rr_{method}'])\n",
    "    for disease in pltkit.diseases:\n",
    "        rr[f'paf_{method}'][disease] = 1 - (1/rr[f'rr_{method}'][disease])\n",
    "    rr[f'mortality_{method}'] = pd.DataFrame().reindex_like(gbd_mortality_image_region)\n",
    "    for disease in pltkit.diseases:\n",
    "        rr[f'mortality_{method}'][pltkit.diseases[disease]] = rr[f'paf_{method}'][disease] * gbd_mortality_image_region[pltkit.diseases[disease]] \n",
    "        \n",
    "print(f'Global Attributable Burden: M1 = {int(rr[f'mortality_m1'].sum(axis=0).sum())}; M2 = {int(rr[f'mortality_m2'].sum(axis=0).sum())}')"
   ]
  },
  {
   "cell_type": "code",
   "execution_count": null,
   "metadata": {},
   "outputs": [],
   "source": [
    "dfs[f'rr_m2'] = pd.read_csv(f\"{wdir}\\\\output\\\\rr_m2_all-diseases_C1_2010-2019_5std.csv\", index_col=[0], header=[0,1])\n",
    "dfs[f'rr_m2'].set_index(pltkit.image_regions['Region'], inplace=True)\n",
    "dfs[f'rr_m2'] = dfs[f'rr_m2'].xs(f'{year}', axis=1, level=0)\n",
    "\n",
    "dfs[f'rr_m1'] = dfs[f'C1_m1_5'].xs(f'{year}', axis=1, level=0)\n",
    "\n",
    "for method in ['m1', 'm2']:\n",
    "        dfs[f'paf_{method}'] = pd.DataFrame().reindex_like(rr[f'rr_{method}'])\n",
    "        for disease in pltkit.diseases:\n",
    "                dfs[f'paf_{method}'][disease] = 1 - (1/dfs[f'rr_{method}'][disease])\n",
    "        dfs[f'mortality_{method}'] = pd.DataFrame().reindex_like(gbd_mortality_image_region)\n",
    "        for disease in pltkit.diseases:\n",
    "                dfs[f'mortality_{method}'][pltkit.diseases[disease]] = dfs[f'paf_{method}'][disease] * gbd_mortality_image_region[pltkit.diseases[disease]] \n",
    "\n",
    "print(f'Global Attributable Burden: M1 = {int(dfs[f'mortality_m1'].sum(axis=0).sum())}; M2 = {int(dfs[f'mortality_m2'].sum(axis=0).sum())}')"
   ]
  },
  {
   "cell_type": "code",
   "execution_count": null,
   "metadata": {},
   "outputs": [],
   "source": [
    "method = 'm1'\n",
    "cumval = 0\n",
    "fig = plt.figure(figsize=(12, 8))\n",
    "\n",
    "# Generate a color map for the diseases\n",
    "num_colors = len(pltkit.diseases.keys())\n",
    "cmap = cm.get_cmap('tab20', num_colors)  \n",
    "disease_colors = {disease: cmap(i) for i, disease in enumerate(pltkit.diseases.values())}\n",
    "\n",
    "df = dfs[f'mortality_{method}'].drop(['Environmental heat and cold exposure'], axis=1)\n",
    "# Generate the stacked bar plot\n",
    "for i, col in enumerate(df.columns):\n",
    "    color = disease_colors.get(col)  \n",
    "    plt.bar(df.index, df[col], bottom=cumval, color=color, label=col)\n",
    "    cumval = cumval + df[col]\n",
    "\n",
    "pltkit.stylize_plot(ylabel='Total number of deaths', title=f'Total attributable deaths in {year} - {method}', \n",
    "             legend=True, xticks_kwargs={'rotation': 90}, show=True)"
   ]
  },
  {
   "cell_type": "code",
   "execution_count": null,
   "metadata": {},
   "outputs": [],
   "source": [
    "cumval = 0\n",
    "fig = plt.figure(figsize=(12, 8))\n",
    "\n",
    "# Generar el gráfico de barras con colores dinámicos\n",
    "for i, col in enumerate(pltkit.relevant_diseases.keys()):\n",
    "    color = disease_colors.get(pltkit.relevant_diseases[col], 'gray') \n",
    "    plt.bar(df.index, df[pltkit.relevant_diseases[col]], bottom=cumval, color=color, label=pltkit.relevant_diseases[col])\n",
    "    cumval = cumval + df[pltkit.relevant_diseases[col]]\n",
    "\n",
    "pltkit.stylize_plot(ylabel='Total number of deaths', legend=True, xticks_kwargs={'rotation': 90}, show=True)"
   ]
  },
  {
   "cell_type": "markdown",
   "metadata": {},
   "source": [
    "#### Plots from python"
   ]
  },
  {
   "cell_type": "code",
   "execution_count": null,
   "metadata": {},
   "outputs": [],
   "source": [
    "year = 2019\n",
    "image_regions = pd.read_csv(f'X:\\\\user\\\\liprandicn\\\\Health Impacts Model\\\\data\\\\IMAGE_regions\\\\IMAGE_regions.csv',  index_col=0, header=0)\n",
    "\n",
    "### Load GBD mortality data and select specific year and \"all-ages\" group\n",
    "gbd_mortality = pd.read_csv(f'X:\\\\user\\\\liprandicn\\\\Health Impacts Model\\\\data\\\\GBD_Data\\\\Mortality\\\\IHME-GBD_2021_DATA-c46fcd58.csv')\n",
    "gbd_mortality = gbd_mortality[(gbd_mortality['year'] == year) & (gbd_mortality['age'] == 'All ages')]\n",
    "\n",
    "# Make dictionary with mapping and invert it for mapping\n",
    "image_regions_dic = image_regions.set_index('Region')['GBD region'].apply(lambda x: x.split(', ')).to_dict()\n",
    "location_to_image_region = {loc: key for key, locations in image_regions_dic.items() for loc in locations}\n",
    "\n",
    "# Sum deaths per IMAGE region\n",
    "gbd_mortality[\"image_region\"] = gbd_mortality[\"location\"].map(location_to_image_region)\n",
    "gbd_mortality_image_region = gbd_mortality.groupby([\"image_region\", \"cause\"], as_index=False).agg({\"val\": \"sum\"})#, \"upper\": \"sum\", \"lower\": \"sum\"})\n",
    "gbd_mortality_image_region = gbd_mortality_image_region.pivot(index=\"image_region\", columns=\"cause\", values=\"val\").fillna(0).rename_axis(None, axis=1)\n",
    "\n",
    "rr_year = pd.read_csv(f'{wdir}\\\\output\\\\rr_m1-1_all-diseases_{year}_era5.csv', header=[0,1,2])\n",
    "rr_year.set_index(image_regions['Region'], inplace=True)"
   ]
  },
  {
   "cell_type": "code",
   "execution_count": null,
   "metadata": {},
   "outputs": [],
   "source": [
    "diseases_full_names = {'ckd':'Chronic kidney disease', 'cvd_cmp':'Cardiomyopathy and myocarditis', 'cvd_htn':'Hypertensive heart disease', \n",
    "            'cvd_ihd':'Ischemic heart disease', 'cvd_stroke':'Stroke', 'diabetes':'Diabetes mellitus',\n",
    "            'inj_animal':'Animal contact', 'inj_disaster':'Exposure to forces of nature', 'inj_drowning':'Drowning', \n",
    "            'inj_homicide':'Interpersonal violence', 'inj_mech':'Exposure to mechanical forces', \n",
    "            'inj_othunintent':'Other unintentional injuries', 'inj_suicide':'Self-harm', 'inj_trans_other':'Other transport injuries', \n",
    "            'inj_trans_road':'Road injuries', 'resp_copd':'Chronic obstructive pulmonary disease', 'lri':'Lower respiratory infections'}"
   ]
  },
  {
   "cell_type": "code",
   "execution_count": null,
   "metadata": {},
   "outputs": [],
   "source": [
    "dfs = {}\n",
    "dfs['rr_all'] = rr_year.xs('all', axis=1, level=2).xs(f'{year}', axis=1, level=0)\n",
    "dfs[f'rr_cold'] = rr_year.xs('cold', axis=1, level=2).xs(f'{year}', axis=1, level=0)\n",
    "dfs[f'rr_hot'] = rr_year.xs('hot', axis=1, level=2).xs(f'{year}', axis=1, level=0)\n",
    "\n",
    "\n",
    "for method in ['all', 'cold', 'hot']:\n",
    "        dfs[f'paf_{method}'] = pd.DataFrame().reindex_like(dfs[f'rr_{method}'])\n",
    "        for disease in diseases_full_names:\n",
    "                dfs[f'paf_{method}'][disease] = 1 - (1/dfs[f'rr_{method}'][disease])\n",
    "        dfs[f'mortality_{method}'] = pd.DataFrame().reindex_like(gbd_mortality_image_region)\n",
    "        for disease in diseases_full_names:\n",
    "                dfs[f'mortality_{method}'][diseases_full_names[disease]] = dfs[f'paf_{method}'][disease] * gbd_mortality_image_region[diseases_full_names[disease]] \n",
    "\n",
    "print(f'Global Attributable Burden: ALL = {int(dfs[f'mortality_all'].sum(axis=0).sum())}; COLD = {int(dfs[f'mortality_cold'].sum(axis=0).sum())}; HOT = {int(dfs[f'mortality_hot'].sum(axis=0).sum())}')"
   ]
  },
  {
   "cell_type": "code",
   "execution_count": null,
   "metadata": {},
   "outputs": [],
   "source": [
    "import matplotlib.cm as cm\n",
    "\n",
    "method = 'hot'\n",
    "cumval = 0\n",
    "fig = plt.figure(figsize=(12, 8))\n",
    "\n",
    "# Generate a color map for the diseases\n",
    "num_colors = len(diseases_full_names.keys())\n",
    "cmap = cm.get_cmap('tab20', num_colors)  \n",
    "disease_colors = {disease: cmap(i) for i, disease in enumerate(diseases_full_names.values())}\n",
    "\n",
    "df = dfs[f'mortality_{method}'][[diseases_full_names[d] for d in diseases_full_names.keys()]]\n",
    "# Generate the stacked bar plot\n",
    "for i, col in enumerate(df.columns):\n",
    "    color = disease_colors.get(col)  \n",
    "    plt.bar(df.index, df[col], bottom=cumval, color=color, label=col)\n",
    "    cumval = cumval + df[col]\n",
    "\n",
    "plt.xticks(rotation=90)\n",
    "plt.ylabel('Total number of deaths')\n",
    "plt.title(f'Total attributable deaths in {year} - {method} deaths')\n",
    "plt.legend()\n",
    "plt.show()"
   ]
  },
  {
   "cell_type": "markdown",
   "metadata": {},
   "source": [
    "### IMAGE regions and Temperature Zones"
   ]
  },
  {
   "cell_type": "code",
   "execution_count": null,
   "metadata": {},
   "outputs": [],
   "source": [
    "### Import ERA5 temperature zones and IMAGE region data\n",
    "greg, era5_tz = read_IMAGEregions_and_TempZone()\n",
    "\n",
    "### Import population data and create mask with population > 0 \n",
    "ssp = 'SSP2_CP'\n",
    "pop_ssp = get_annual_pop(f'{ssp}')\n",
    "pop_ssp = pop_ssp.mean(dim='time').GPOP.values\n",
    "valid_mask = pop_ssp > 0.\n",
    "\n",
    "era5_tz = era5_tz[valid_mask]\n",
    "greg = greg[valid_mask]\n",
    "\n",
    "regions = pltkit.image_regions['Region']\n",
    "\n",
    "### Assign color map\n",
    "cmap = plt.get_cmap(\"tab20\")  \n",
    "colors = [cmap(i / len(regions)) for i in range(len(regions))]  "
   ]
  },
  {
   "cell_type": "code",
   "execution_count": null,
   "metadata": {},
   "outputs": [],
   "source": [
    "fig, axes = plt.subplots(nrows=6, ncols=5, figsize=(20, 12))\n",
    "\n",
    "# Graficar regiones 1 a 25\n",
    "for region in range(1, 26):\n",
    "    row = (region - 1) // 5\n",
    "    col = (region - 1) % 5\n",
    "    ax = axes[row, col]\n",
    "    \n",
    "    ax.grid(True, color='white', zorder=0)\n",
    "    ax.set_facecolor('whitesmoke')\n",
    "    ax.tick_params(colors='grey')  # ticks en gris\n",
    "    for spine in ax.spines.values():\n",
    "        spine.set_visible(False)  # quitar contornos\n",
    "\n",
    "    color = colors[region - 1]\n",
    "    valid_mask = greg == region\n",
    "    era5_tz_region = era5_tz[valid_mask]\n",
    "    era5_tz_region = era5_tz_region[~np.isnan(era5_tz_region)]\n",
    "\n",
    "    unique_values = np.unique(era5_tz_region)\n",
    "    ax.hist(era5_tz_region, bins=len(unique_values), density=True, alpha=0.5,\n",
    "            label=image_regions.iloc[region - 1, 0], color=color, zorder=2)\n",
    "    ax.set_title(f'{image_regions.iloc[region - 1, 0]}', color='dimgrey')\n",
    "\n",
    "\n",
    "# Región 26 en el centro de la última fila\n",
    "region = 26\n",
    "ax = axes[5, 2]\n",
    "\n",
    "ax.set_facecolor('whitesmoke')\n",
    "ax.grid(True, color='white')\n",
    "ax.tick_params(colors='grey')\n",
    "for spine in ax.spines.values():\n",
    "    spine.set_visible(False)\n",
    "\n",
    "color = colors[region - 1]\n",
    "valid_mask = greg == region\n",
    "era5_tz_region = era5_tz[valid_mask]\n",
    "era5_tz_region = era5_tz_region[~np.isnan(era5_tz_region)]\n",
    "\n",
    "unique_values = np.unique(era5_tz_region)\n",
    "ax.hist(era5_tz_region, bins=len(unique_values), density=True, alpha=0.5,\n",
    "        label=image_regions.iloc[region - 1, 0], color=color, zorder=2)\n",
    "ax.set_title(f'{image_regions.iloc[region - 1, 0]}', color='dimgrey')\n",
    "\n",
    "# Eliminar los subplots vacíos en la última fila\n",
    "for col in [0, 1, 3, 4]:\n",
    "    fig.delaxes(axes[5, col])\n",
    "    ax.hist(era5_tz_region, bins=len(unique_values), density=True, alpha=0.5, label=pltkit.image_regions.iloc[region-1, 0], color=color)\n",
    "    \n",
    "    #ax.plot(np.sort(era5_tz_region), pdf, color=color)\n",
    "    ax.set_title(f'{pltkit.image_regions.iloc[region-1, 0]}')\n",
    "\n",
    "plt.tight_layout()\n",
    "plt.show()"
   ]
  },
  {
   "cell_type": "code",
   "execution_count": null,
   "metadata": {},
   "outputs": [],
   "source": [
    "fig = plt.figure(figsize=(10,6))\n",
    "ax = fig.add_subplot(111)\n",
    "x_eval = np.linspace(6., 27., 1000)\n",
    "\n",
    "for region in range(12,27):\n",
    "    color = colors[region-1] \n",
    "    valid_mask = greg == region\n",
    "    era5_tz_region = era5_tz[valid_mask]\n",
    "    era5_tz_region = era5_tz_region[~np.isnan(era5_tz_region)]\n",
    "    \n",
    "    kde = gaussian_kde(era5_tz_region, bw_method='silverman')\n",
    "    ax.plot(x_eval, kde(x_eval), label = pltkit.image_regions.iloc[region-1,0], color=color)\n",
    "    \n",
    "#plt.ylim(0,0.5)\n",
    "plt.legend(loc='upper center', bbox_to_anchor=(0.5, -0.1), ncol=6, prop={'size': 8})"
   ]
  },
  {
   "cell_type": "markdown",
   "metadata": {},
   "source": [
    "#### Temperature zones analysis"
   ]
  },
  {
   "cell_type": "markdown",
   "metadata": {},
   "source": [
    "#### Temperature zones vs TMRELs"
   ]
  },
  {
   "cell_type": "markdown",
   "metadata": {},
   "source": [
    "#### Population weighted PDFs"
   ]
  },
  {
   "cell_type": "code",
   "execution_count": null,
   "metadata": {},
   "outputs": [],
   "source": [
    "pop_ssp = get_annual_pop('SSP2_CP')\n",
    "pop_ssp_year = pop_ssp.sel(time=str(2019)).mean('time')\n",
    "tmrel = {}\n",
    "for year in [1990,2010,2020]:\n",
    "    tmrel[year] = xr.open_dataset(f'{wdir}\\\\GBD_Data\\\\Exposure_Response_Functions\\\\TMRELs_{year}.nc')\n",
    "era5_tz = xr.open_dataset(f'{wdir}\\\\Climate_Data\\\\ERA5\\\\ERA5_mean_1980-2019_land_t2m_tz.nc')"
   ]
  },
  {
   "cell_type": "code",
   "execution_count": null,
   "metadata": {},
   "outputs": [],
   "source": [
    "counts_tmrel = defaultdict(dict); weights_tmrel = defaultdict(dict)\n",
    "\n",
    "for year in [1990, 2010, 2020]:\n",
    "    for tz in range(6,29):\n",
    "        counts_tmrel[year][tz], weights_tmrel[year][tz] = pltkit.get_counts_and_weights_for_kde(tmrel[year], era5_tz, pop_ssp_year,tz)"
   ]
  },
  {
   "cell_type": "code",
   "execution_count": null,
   "metadata": {},
   "outputs": [],
   "source": [
    "### Plot for one year\n",
    "year = 1990\n",
    "tz_values = list(range(6, 29))\n",
    "colors = cm.copper(np.linspace(0, 1, len(tz_values)))\n",
    "\n",
    "fig, ax = plt.subplots(figsize=(10, 8))#, dpi=300)\n",
    "ax.set_facecolor('whitesmoke')\n",
    "\n",
    "for i, tz in enumerate(tz_values):\n",
    "    data = counts_tmrel[year][tz]\n",
    "    w = weights_tmrel[year][tz]\n",
    "\n",
    "    if len(data) > 50000:\n",
    "        idx = np.random.choice(len(data), size=50000, replace=False, p=w)\n",
    "        data = data[idx]\n",
    "        w = w[idx]\n",
    "        w = w / w.sum()\n",
    "\n",
    "    kde = gaussian_kde(data, weights=w)\n",
    "\n",
    "    p5, p95 = np.percentile(data, [5, 95])\n",
    "    x = np.linspace(p5, p95, 200)\n",
    "    y = kde(x)\n",
    "\n",
    "    scale = 0.4 / y.max()\n",
    "    y_scaled = y * scale\n",
    "\n",
    "    ax.fill_betweenx(x, tz, tz + y_scaled, color=colors[i], alpha=0.8, zorder=2)\n",
    "\n",
    "pltkit.stylize_axes(ax, xticks=tz_values, xtickslabels=tz_values, xlim=(5.5,28.5), ylim=(14,30), xlabel='Temperature zone [°C]',\n",
    "             ylabel=\"TMREL [°C]\", title=f\"Population-weighted {year} TMREL Distributions by Temperature Zone\\n5–95% Percentile Range\",\n",
    "             grid=True, grid_kwargs={'axis':'both', 'color':'white', 'zorder':0})"
   ]
  },
  {
   "cell_type": "code",
   "execution_count": null,
   "metadata": {},
   "outputs": [],
   "source": [
    "### Plot for all years\n",
    "\n",
    "tz_values = list(range(6, 29))\n",
    "colors = cm.copper(np.linspace(0, 1, len(tz_values)))\n",
    "\n",
    "fig, axs = plt.subplots(1,3, figsize=(18, 5))#, dpi=300)\n",
    "axs=axs.flatten()\n",
    "\n",
    "for j,year in enumerate([1990,2010,2020]):\n",
    "    for i, tz in enumerate(tz_values):\n",
    "        data = counts_tmrel[year][tz]\n",
    "        w = weights_tmrel[year][tz]\n",
    "\n",
    "        if len(data) > 50000:\n",
    "            idx = np.random.choice(len(data), size=50000, replace=False, p=w)\n",
    "            data = data[idx]\n",
    "            w = w[idx]\n",
    "            w = w / w.sum()\n",
    "\n",
    "        kde = gaussian_kde(data, weights=w)\n",
    "\n",
    "        p5, p95 = np.percentile(data, [5, 95])\n",
    "        x = np.linspace(p5, p95, 200)\n",
    "        y = kde(x)\n",
    "\n",
    "        scale = 0.4 / y.max()\n",
    "        y_scaled = y * scale\n",
    "\n",
    "        axs[j].fill_betweenx(x, tz, tz + y_scaled, color=colors[i], alpha=0.9, zorder=2)\n",
    "\n",
    "    pltkit.stylize_axes(axs[j], xticks=tz_values, xtickslabels=tz_values, xlim=(5.5,28.5), ylim=(13.5,30), xlabel='Temperature zone [°C]',\n",
    "                ylabel=\"TMREL [°C]\", title=f\"{year}\", grid=True, grid_kwargs={'axis':'both', 'color':'white', 'zorder':0}, facecolor='whitesmoke')\n",
    "plt.suptitle('Population-weighted TMREL Distributions by Temperature Zone')"
   ]
  },
  {
   "cell_type": "markdown",
   "metadata": {},
   "source": [
    "#### Temperature zones vs GDP"
   ]
  },
  {
   "cell_type": "code",
   "execution_count": null,
   "metadata": {},
   "outputs": [],
   "source": [
    "# Open dataframes\n",
    "gdp_data = pd.read_excel('X:\\\\user\\\\hooijschue\\\\Projects\\\\GDP_POP\\\\source_data update (elena)\\\\GDP\\\\iamc_db gdp.xlsx')\n",
    "gdppc_data = pd.read_excel('X:\\\\user\\\\hooijschue\\\\Projects\\\\GDP_POP\\\\source_data update (elena)\\\\GDP\\\\iamc_db gdppc.xlsx')\n",
    "# Open xarrays\n",
    "gdp_original = xr.open_dataset(f'{wdir}\\\\SocioeconomicData\\\\EconomicData\\\\GDP_SSP2_2020_OriginalCountries.nc')\n",
    "gdp = xr.open_dataset(f'{wdir}\\\\SocioeconomicData\\\\EconomicData\\\\GDP_SSP2_2020.nc')"
   ]
  },
  {
   "cell_type": "markdown",
   "metadata": {},
   "source": [
    "#### Selected countries"
   ]
  },
  {
   "cell_type": "code",
   "execution_count": null,
   "metadata": {},
   "outputs": [],
   "source": [
    "gdp_countries = gdp_data[(gdp_data['Region'].isin(pltkit.original_countries)) & (gdp_data['Scenario'] == 'SSP2')][['Region', 2020]].rename(columns={2020:'gdp'})\n",
    "gdppc_countries = gdppc_data[(gdppc_data['Region'].isin(pltkit.original_countries)) & (gdppc_data['Scenario'] == 'SSP2')][['Region', 2020]].rename(columns={2020:'gdppc'})\n",
    "    \n",
    "counts_gdp, values_gdp, _ = get_values_counts_weights_for_bubbles(gdp_original.gdp, era5_tz.t2m, pop_ssp_year.GPOP, weighted=False)\n",
    "counts_gdppc, values_gdppc, _ = get_values_counts_weights_for_bubbles(gdp_original.gdppc, era5_tz.t2m, pop_ssp_year.GPOP, weighted=False)\n",
    "\n",
    "mapping = gdp_countries.set_index('gdp')['Region'].to_dict()\n",
    "mapping_gdppc = gdppc_countries.set_index('gdppc')['Region'].to_dict()\n",
    "\n",
    "x_vals, y_vals, sizes = pltkit.get_bubbles(counts_gdp, 1000)\n",
    "x_vals_pc, y_vals_pc, sizes_pc = pltkit.get_bubbles(counts_gdppc, 1000)         \n",
    "        \n",
    "\n",
    "fig, (ax1, ax2) = plt.subplots(1, 2, figsize=(18, 6))\n",
    "\n",
    "ax1.scatter(x_vals, y_vals, s=sizes, alpha=0.8, color='steelblue', zorder=2)\n",
    "labels_gdp = [mapping[val] if val in mapping else '' for val in values_gdp]\n",
    "pltkit.stylize_axes(ax1, xscale='log', xlabel='GDP|PPP [billion US$2005]', xticks=values_gdp, \n",
    "                    xtickslabels=values_gdp.round(1), xtickslabels_kwargs={'rotation':90})\n",
    "\n",
    "ax1_top = ax1.twiny()\n",
    "pltkit.stylize_axes(ax1_top, xscale='log', xlim=ax1.get_xlim(), xticks=values_gdp, xlabel='Region', \n",
    "                    xtickslabels=labels_gdp, xtickslabels_kwargs={'rotation':90})\n",
    "\n",
    "\n",
    "ax2.scatter(x_vals_pc, y_vals_pc, s=sizes_pc, alpha=0.8, color='darkolivegreen', zorder=2)\n",
    "labels_gdppc = [mapping_gdppc[val] if val in mapping_gdppc else '' for val in values_gdppc]\n",
    "pltkit.stylize_axes(ax2, xlabel='GDP|PPP per capita [billion US$2005]', xticks=values_gdppc, \n",
    "                    xtickslabels=values_gdppc.round(1), xtickslabels_kwargs={'rotation':90})\n",
    "\n",
    "\n",
    "ax2_top = ax2.twiny()\n",
    "pltkit.stylize_axes(ax2_top, xlim=ax2.get_xlim(), xticks=values_gdppc, xlabel='Region', \n",
    "                    xtickslabels=labels_gdppc, xtickslabels_kwargs={'rotation':90})\n",
    "\n",
    "for ax in (ax1, ax2):\n",
    "    pltkit.stylize_axes(ax, facecolor='whitesmoke', ylabel='Temperature Zone', grid=True,\n",
    "                        grid_kwargs={'axis':'both', 'color':'white', 'zorder':0})\n",
    "\n",
    "pltkit.stylize_plot(suptitle='Temperature Zone Frequencies for the original countries', tight_layout=True)"
   ]
  },
  {
   "cell_type": "markdown",
   "metadata": {},
   "source": [
    "#### Population weighted "
   ]
  },
  {
   "cell_type": "code",
   "execution_count": null,
   "metadata": {},
   "outputs": [],
   "source": [
    "gdp_countries = gdp_data[(gdp_data['Region'].isin(pltkit.original_countries)) & (gdp_data['Scenario'] == 'SSP2')][['Region', 2020]].rename(columns={2020:'gdp'})\n",
    "gdppc_countries = gdppc_data[(gdppc_data['Region'].isin(pltkit.original_countries)) & (gdppc_data['Scenario'] == 'SSP2')][['Region', 2020]].rename(columns={2020:'gdppc'})\n",
    "\n",
    "counts_gdp, values_gdp, weights_gdp = get_values_counts_weights_for_bubbles(gdp_original.gdp, era5_tz.t2m, pop_ssp_year.GPOP, weighted=True)\n",
    "counts_gdppc, values_gdppc, weights_gdppc = get_values_counts_weights_for_bubbles(gdp_original.gdppc, era5_tz.t2m, pop_ssp_year.GPOP, weighted=True)\n",
    "\n",
    "mapping = gdp_countries.set_index('gdp')['Region'].to_dict()\n",
    "mapping_gdppc = gdppc_countries.set_index('gdppc')['Region'].to_dict()\n",
    "\n",
    "x_vals, y_vals, sizes = pltkit.get_bubbles_weighted_by_population(counts_gdp, weights_gdp, size_scale=1000)\n",
    "x_vals_pc, y_vals_pc, sizes_pc = pltkit.get_bubbles_weighted_by_population(counts_gdppc, weights_gdppc, size_scale=1000)     \n",
    "\n",
    "fig, (ax1, ax2) = plt.subplots(1, 2, figsize=(18, 6))\n",
    "\n",
    "ax1.scatter(x_vals, y_vals, s=sizes, alpha=0.8, color='steelblue', zorder=2)\n",
    "labels_gdp = [mapping[val] if val in mapping else '' for val in values_gdp]\n",
    "pltkit.stylize_axes(ax1, xscale='log', xlabel='GDP|PPP [billion US$2005]', xticks=values_gdp, \n",
    "                    xtickslabels=values_gdp.round(1), xtickslabels_kwargs={'rotation':90})\n",
    "\n",
    "ax1_top = ax1.twiny()\n",
    "pltkit.stylize_axes(ax1_top, xscale='log', xlim=ax1.get_xlim(), xticks=values_gdp, xlabel='Region', \n",
    "                    xtickslabels=labels_gdp, xtickslabels_kwargs={'rotation':90})\n",
    "\n",
    "\n",
    "ax2.scatter(x_vals_pc, y_vals_pc, s=sizes_pc, alpha=0.8, color='darkolivegreen', zorder=2)\n",
    "labels_gdppc = [mapping_gdppc[val] if val in mapping_gdppc else '' for val in values_gdppc]\n",
    "pltkit.stylize_axes(ax2, xlabel='GDP|PPP per capita [billion US$2005]', xticks=values_gdppc, \n",
    "                    xtickslabels=values_gdppc.round(1), xtickslabels_kwargs={'rotation':90})\n",
    "\n",
    "\n",
    "ax2_top = ax2.twiny()\n",
    "pltkit.stylize_axes(ax2_top, xlim=ax2.get_xlim(), xticks=values_gdppc, xlabel='Region', \n",
    "                    xtickslabels=labels_gdppc, xtickslabels_kwargs={'rotation':90})\n",
    "\n",
    "for ax in (ax1, ax2):\n",
    "    pltkit.stylize_axes(ax, facecolor='whitesmoke', ylabel='Temperature Zone', grid=True,\n",
    "                        grid_kwargs={'axis':'both', 'color':'white', 'zorder':0})\n",
    "\n",
    "pltkit.stylize_plot(suptitle='Temperature Zone Frequencies for the original countries', tight_layout=True)"
   ]
  },
  {
   "cell_type": "markdown",
   "metadata": {},
   "source": [
    "#### All countries"
   ]
  },
  {
   "cell_type": "code",
   "execution_count": null,
   "metadata": {},
   "outputs": [],
   "source": [
    "gdp_2020 = gdp_data[gdp_data['Scenario'] == 'SSP2'][['Region', 2020]].rename(columns={2020:'gdp'})\n",
    "gdppc_2020 = gdppc_data[gdppc_data['Scenario'] == 'SSP2'][['Region', 2020]].rename(columns={2020: 'gdppc'})\n",
    "\n",
    "counts_gdp, values_gdp, _ = get_values_counts_weights_for_bubbles(gdp.gdp, era5_tz.t2m, pop_ssp_year.GPOP, weighted=False)\n",
    "counts_gdppc, values_gdppc, _ = get_values_counts_weights_for_bubbles(gdp.gdppc, era5_tz.t2m, pop_ssp_year.GPOP, weighted=False)\n",
    "\n",
    "mapping = gdp_2020.set_index('gdp')['Region'].to_dict()\n",
    "mapping_gdppc = gdppc_2020.set_index('gdppc')['Region'].to_dict()\n",
    "\n",
    "x_vals20, y_vals20, sizes20 = pltkit.get_bubbles(counts_gdp, 200)\n",
    "x_vals_pc20, y_vals_pc20, sizes_pc20 = pltkit.get_bubbles(counts_gdppc, 200)\n",
    "\n",
    "\n",
    "fig, (ax1, ax2) = plt.subplots(2,1, figsize=(30, 10))\n",
    "\n",
    "ax1.scatter(x_vals20, y_vals20, s=sizes20, alpha=0.8, color='steelblue', zorder=2)\n",
    "labels_gdp = [mapping[val] if val in mapping else '' for val in values_gdp]\n",
    "pltkit.stylize_axes(ax1, xscale='log', xlabel='GDP|PPP [billion US$2005]', xticks=values_gdp, \n",
    "                    xtickslabels=values_gdp.round(1), xtickslabels_kwargs={'rotation':90})\n",
    "\n",
    "ax1_top = ax1.twiny()\n",
    "pltkit.stylize_axes(ax1_top, xscale='log', xlim=ax1.get_xlim(), xticks=values_gdp, xlabel='Region', \n",
    "                    xtickslabels=labels_gdp, xtickslabels_kwargs={'rotation':90})\n",
    "\n",
    "ax2.scatter(x_vals_pc20, y_vals_pc20, s=sizes_pc20, alpha=0.8, color='darkolivegreen', zorder=2)\n",
    "labels_gdppc = [mapping_gdppc[val] if val in mapping_gdppc else '' for val in values_gdppc]\n",
    "pltkit.stylize_axes(ax2, xlabel='GDP|PPP per capita [billion US$2005]', xticks=values_gdppc, \n",
    "                    xtickslabels=values_gdppc.round(1), xtickslabels_kwargs={'rotation':90})\n",
    "\n",
    "ax2_top = ax2.twiny()\n",
    "pltkit.stylize_axes(ax2_top, xlim=ax2.get_xlim(), xticks=values_gdppc, xlabel='Region', \n",
    "                    xtickslabels=labels_gdppc, xtickslabels_kwargs={'rotation':90})\n",
    "\n",
    "for ax in (ax1, ax2):\n",
    "    pltkit.stylize_axes(ax, facecolor='whitesmoke', ylabel='Temperature Zone', grid=True,\n",
    "                        grid_kwargs={'axis':'both', 'color':'white', 'zorder':0})\n",
    "\n",
    "pltkit.stylize_plot(suptitle='Temperature Zone Frequencies for the original countries', tight_layout=True)"
   ]
  },
  {
   "cell_type": "markdown",
   "metadata": {},
   "source": [
    "#### Population-weighted - Original countries"
   ]
  },
  {
   "cell_type": "code",
   "execution_count": null,
   "metadata": {},
   "outputs": [],
   "source": [
    "gdp_2020 = gdp_data[gdp_data['Scenario'] == 'SSP2'][['Region', 2020]].rename(columns={2020:'gdp'})\n",
    "gdppc_2020 = gdppc_data[gdppc_data['Scenario'] == 'SSP2'][['Region', 2020]].rename(columns={2020: 'gdppc'})\n",
    "\n",
    "counts_gdp, values_gdp, weights_gdp = get_values_counts_weights_for_bubbles(gdp.gdp, era5_tz.t2m, pop_ssp_year.GPOP, weighted=True)\n",
    "counts_gdppc, values_gdppc, weights_gdppc = get_values_counts_weights_for_bubbles(gdp.gdppc, era5_tz.t2m, pop_ssp_year.GPOP, weighted=True)\n",
    "\n",
    "mapping = gdp_2020.set_index('gdp')['Region'].to_dict()\n",
    "mapping_gdppc = gdppc_2020.set_index('gdppc')['Region'].to_dict()\n",
    "\n",
    "x_vals20, y_vals20, sizes20 = pltkit.get_bubbles_weighted_by_population(counts_gdp, weights_gdp, size_scale=200)\n",
    "x_vals_pc20, y_vals_pc20, sizes_pc20 = pltkit.get_bubbles_weighted_by_population(counts_gdppc, weights_gdppc, size_scale=200)\n",
    "\n",
    "\n",
    "fig, (ax1, ax2) = plt.subplots(2,1, figsize=(30, 10))\n",
    "\n",
    "ax1.scatter(x_vals20, y_vals20, s=sizes20, alpha=0.8, color='steelblue', zorder=2)\n",
    "labels_gdp = [mapping[val] if val in mapping else '' for val in values_gdp]\n",
    "pltkit.stylize_axes(ax1, xscale='log', xlabel='GDP|PPP [billion US$2005]', xticks=values_gdp, \n",
    "                    xtickslabels=values_gdp.round(1), xtickslabels_kwargs={'rotation':90})\n",
    "\n",
    "ax1_top = ax1.twiny()\n",
    "pltkit.stylize_axes(ax1_top, xscale='log', xlim=ax1.get_xlim(), xticks=values_gdp, xlabel='Region', \n",
    "                    xtickslabels=labels_gdp, xtickslabels_kwargs={'rotation':90})\n",
    "\n",
    "ax2.scatter(x_vals_pc20, y_vals_pc20, s=sizes_pc20, alpha=0.8, color='darkolivegreen', zorder=2)\n",
    "labels_gdppc = [mapping_gdppc[val] if val in mapping_gdppc else '' for val in values_gdppc]\n",
    "pltkit.stylize_axes(ax2, xlabel='GDP|PPP per capita [billion US$2005]', xticks=values_gdppc, \n",
    "                    xtickslabels=values_gdppc.round(1), xtickslabels_kwargs={'rotation':90})\n",
    "\n",
    "ax2_top = ax2.twiny()\n",
    "pltkit.stylize_axes(ax2_top, xlim=ax2.get_xlim(), xticks=values_gdppc, xlabel='Region', \n",
    "                    xtickslabels=labels_gdppc, xtickslabels_kwargs={'rotation':90})\n",
    "\n",
    "for ax in (ax1, ax2):\n",
    "    pltkit.stylize_axes(ax, facecolor='whitesmoke', ylabel='Temperature Zone', grid=True,\n",
    "                        grid_kwargs={'axis':'both', 'color':'white', 'zorder':0})\n",
    "\n",
    "pltkit.stylize_plot(suptitle='Temperature Zone Frequencies for the original countries', tight_layout=True)"
   ]
  },
  {
   "cell_type": "markdown",
   "metadata": {},
   "source": [
    "#### TMREL vs GDP"
   ]
  },
  {
   "cell_type": "code",
   "execution_count": null,
   "metadata": {},
   "outputs": [],
   "source": [
    "tmrel = xr.open_dataset(f'{wdir}\\\\GBD_Data\\\\Exposure_Response_Functions\\\\TMRELs_2020.nc')\n",
    "\n",
    "counts_gdp, values_gdp, weights_gdp = get_values_counts_weights_for_bubbles(gdp_original.gdp, tmrel, pop_ssp_year.GPOP, weighted=True)\n",
    "counts_gdppc, values_gdppc, weights_gdppc = get_values_counts_weights_for_bubbles(gdp_original.gdppc, tmrel, pop_ssp_year.GPOP, weighted=True)\n",
    "\n",
    "norm = Normalize(vmin=6, vmax=29) \n",
    "cmap = cm.get_cmap(\"copper\")  \n",
    "\n",
    "fig, (ax1, ax2) = plt.subplots(1, 2, figsize=(18, 6), sharey=True)\n",
    "\n",
    "gdp_sorted = sorted(counts_gdp.keys())\n",
    "gdppc_sorted = sorted(counts_gdppc.keys())\n",
    "\n",
    "for i, gdp in enumerate(gdp_sorted):\n",
    "    \n",
    "    data = np.array(counts_gdp[gdp])\n",
    "    weights = np.array(weights_gdp[gdp])\n",
    "\n",
    "    mask = (~np.isnan(data)) & (~np.isnan(weights))\n",
    "    data, weights = data[mask], weights[mask]\n",
    "\n",
    "    if len(data) == 0:\n",
    "        continue\n",
    "\n",
    "    if len(data) > 50000:\n",
    "        weights = weights / weights.sum()\n",
    "        idx = np.random.choice(len(data), size=50000, replace=False, p=weights)\n",
    "        data, weights = data[idx], weights[idx]\n",
    "\n",
    "    weights = weights / weights.sum()\n",
    "\n",
    "    kde = gaussian_kde(data, weights=weights)\n",
    "    p5, p95 = np.percentile(data, [5, 95])\n",
    "    x = np.linspace(p5, p95, 200)\n",
    "    y = kde(x)\n",
    "    scale = 0.03 / y.max()\n",
    "    y_scaled = y * scale\n",
    "\n",
    "    for xi, yi in zip(x[:-1], y_scaled[:-1]):\n",
    "        ax1.fill_betweenx([xi, xi + 0.1], gdp, 10**(np.log10(gdp) + yi),\n",
    "                      color=cmap(norm(xi)), alpha=0.8, zorder=2)\n",
    "\n",
    "labels_gdp = [mapping[val] if val in mapping else '' for val in gdp_sorted]\n",
    "\n",
    "pltkit.stylize_axes(ax1, xscale='log', xlabel='GDP|PPP [billion US$2005]', xticks=gdp_sorted, \n",
    "                    xtickslabels=np.round(gdp_sorted, 1), xtickslabels_kwargs={'rotation':90})\n",
    "\n",
    "ax1_top = ax1.twiny()\n",
    "pltkit.stylize_axes(ax1_top, xscale='log', xlim=ax1.get_xlim(), xticks=gdp_sorted, xlabel='Region', \n",
    "                    xtickslabels=labels_gdp, xtickslabels_kwargs={'rotation':90})\n",
    "\n",
    "\n",
    "# ---------- GDP per Capita Plot ----------\n",
    "for i, gdppc in enumerate(gdppc_sorted):\n",
    "    data = np.array(counts_gdppc[gdppc])\n",
    "    weights = np.array(weights_gdppc[gdppc])\n",
    "\n",
    "    mask = (~np.isnan(data)) & (~np.isnan(weights))\n",
    "    data, weights = data[mask], weights[mask]\n",
    "\n",
    "    if len(data) == 0:\n",
    "        continue\n",
    "\n",
    "    if len(data) > 50000:\n",
    "        weights = weights / weights.sum()\n",
    "        idx = np.random.choice(len(data), size=50000, replace=False, p=weights)\n",
    "        data, weights = data[idx], weights[idx]\n",
    "\n",
    "    weights = weights / weights.sum()\n",
    "\n",
    "    kde = gaussian_kde(data, weights=weights)\n",
    "    p5, p95 = np.percentile(data, [5, 95])\n",
    "    x = np.linspace(p5, p95, 200)\n",
    "    y = kde(x)\n",
    "    scale = 0.6 / y.max()\n",
    "    y_scaled = y * scale\n",
    "\n",
    "    for xi, yi in zip(x, y_scaled):\n",
    "        ax2.fill_betweenx([xi, xi + 0.2], gdppc, gdppc + yi,\n",
    "                      color=cmap(norm(xi)), alpha=0.8, zorder=2)\n",
    "\n",
    "labels_gdppc = [mapping_gdppc[val] if val in mapping_gdppc else '' for val in gdppc_sorted]\n",
    "pltkit.stylize_axes(ax2, xlabel='GDP|PPP per capita [billion US$2005]', xticks=gdppc_sorted, \n",
    "                    xtickslabels=np.round(gdppc_sorted, 1), xtickslabels_kwargs={'rotation':90})\n",
    "\n",
    "ax2_top = ax2.twiny()\n",
    "pltkit.stylize_axes(ax2_top, xscale='log', xlim=ax2.get_xlim(), xticks=gdppc_sorted, xlabel='Region', \n",
    "                    xtickslabels=labels_gdppc, xtickslabels_kwargs={'rotation':90})\n",
    "\n",
    "for ax in (ax1, ax2):\n",
    "    pltkit.stylize_axes(ax, facecolor='whitesmoke', ylabel='TMREL', grid=True,\n",
    "                        grid_kwargs={'axis':'both', 'color':'white', 'zorder':0})\n",
    "\n",
    "pltkit.stylize_plot(suptitle='Population-weighted Distribution of Temperature Zones by GDP and GDP per Capita', tight_layout=True)"
   ]
  },
  {
   "cell_type": "markdown",
   "metadata": {},
   "source": [
    "#### All countries"
   ]
  },
  {
   "cell_type": "code",
   "execution_count": null,
   "metadata": {},
   "outputs": [],
   "source": [
    "gdp = xr.open_dataset(f'{wdir}\\\\SocioeconomicData\\\\EconomicData\\\\GDP_SSP2_2020.nc')\n",
    "gdp_2020 = gdp_data[gdp_data['Scenario'] == 'SSP2'][['Region', 2020]].rename(columns={2020:'gdp'})\n",
    "gdppc_2020 = gdppc_data[gdppc_data['Scenario'] == 'SSP2'][['Region', 2020]].rename(columns={2020: 'gdppc'})\n",
    "\n",
    "counts_gdp_20, values_gdp_20, weights_gdp_20 = pltkit.get_values_counts_weights_for_bubbles(gdp.gdp, tmrel, pop_ssp_year.GPOP, weighted=True)\n",
    "counts_gdppc_20, values_gdppc_20, weights_gdppc_20 = pltkit.get_values_counts_weights_for_bubbles(gdp.gdppc, tmrel, pop_ssp_year.GPOP, weighted=True)\n",
    "\n",
    "mapping = gdp_2020.set_index('gdp')['Region'].to_dict()\n",
    "mapping_gdppc = gdppc_2020.set_index('gdppc')['Region'].to_dict()\n",
    "\n",
    "x_vals20, y_vals20, sizes20 = pltkit.get_bubbles_weighted_by_population(counts_gdp_20, weights_gdp_20, size_scale=200)\n",
    "x_vals_pc20, y_vals_pc20, sizes_pc20 = pltkit.get_bubbles_weighted_by_population(counts_gdppc_20, weights_gdppc_20, size_scale=200)\n",
    "\n",
    "fig, (ax1, ax2) = plt.subplots(2,1, figsize=(30, 10))\n",
    "\n",
    "ax1.scatter(x_vals20, y_vals20, s=sizes20, alpha=0.8, color='steelblue', zorder=2)\n",
    "labels_gdp_20 = [mapping[val] if val in mapping else '' for val in values_gdp_20]\n",
    "pltkit.stylize_axes(ax1, xscale='log', xlabel='GDP|PPP [billion US$2005]', xticks=values_gdp_20, xtickslabels=values_gdp_20.round(1), xtickslabels_kwargs={'rotation':90})\n",
    "ax1_top = ax1.twiny()\n",
    "pltkit.stylize_axes(ax1_top, xscale='log', xlim=ax1.get_xlim(), xticks=values_gdp_20, xtickslabels=labels_gdp_20, xtickslabels_kwargs={'rotation':90})\n",
    "\n",
    "ax2.scatter(x_vals_pc20, y_vals_pc20, s=sizes_pc20, alpha=0.8, color='darkolivegreen', zorder=2)\n",
    "labels_gdppc_20 = [mapping[val] if val in mapping else '' for val in values_gdppc_20]\n",
    "pltkit.stylize_axes(ax2, xlabel='GDP|PPP per capita [billion US$2005]', xticks=values_gdppc_20, xtickslabels=values_gdppc_20.round(1), xtickslabels_kwargs={'rotation':90})\n",
    "ax2_top = ax2.twiny()\n",
    "pltkit.stylize_axes(ax2_top, xlim=ax2.get_xlim(), xticks=values_gdppc_20, xtickslabels=labels_gdppc_20, xtickslabels_kwargs={'rotation':90})\n",
    "\n",
    "for ax in (ax1, ax2):\n",
    "    pltkit.stylize_axes(ax, facecolor='whitesmoke', ylabel='TMREL', grid=True, grid_kwargs={'axis':'both', 'color':'white', 'zorder':0})\n",
    "    \n",
    "pltkit.stylize_plot(suptitle='TMREL frequencies per country', tight_layout=True)"
   ]
  },
  {
   "cell_type": "markdown",
   "metadata": {},
   "source": [
    "### ERF"
   ]
  },
  {
   "cell_type": "markdown",
   "metadata": {},
   "source": [
    "#### Plot one disease"
   ]
  },
  {
   "cell_type": "code",
   "execution_count": null,
   "metadata": {},
   "outputs": [],
   "source": [
    "disease = 'ckd'; tz = 6\n",
    "erf = pd.read_csv(f'{wdir}\\\\data\\\\Response_Functions\\\\erf_reformatted2\\\\erf_{disease}.csv', index_col=[1,2])\n",
    "\n",
    "plt.plot(erf.loc[tz].index, erf.loc[tz, 'rr'])\n",
    "pltkit.stylize_plot(grid=True, xlabel='Daily temperature (°C)', ylabel='RR', title=f'RR for {disease} - {tz}℃')"
   ]
  },
  {
   "cell_type": "code",
   "execution_count": null,
   "metadata": {},
   "outputs": [],
   "source": [
    "tz = 6\n",
    "start = 10\n",
    "end = 40\n",
    "\n",
    "xnew_hot, ynew_hot, xnew_cold, ynew_cold = pltkit.interpolate_erf(start_graph=start, end_graph=end, erf=erf, tz=tz)\n",
    "\n",
    "plt.plot(erf.loc[tz].index, erf.loc[tz, 'rr'])\n",
    "plt.plot(xnew_hot, ynew_hot, 'C0--')\n",
    "plt.plot(xnew_cold, ynew_cold, 'C0--')\n",
    "pltkit.stylize_plot(xlabel='Daily temperature (°C)', ylabel='RR', title=f'ERF - {disease} - {tz}℃', grid=True, show=True)"
   ]
  },
  {
   "cell_type": "markdown",
   "metadata": {},
   "source": [
    "#### Meta-ERFs"
   ]
  },
  {
   "cell_type": "code",
   "execution_count": 76,
   "metadata": {},
   "outputs": [],
   "source": [
    "erf_dic ={}\n",
    "for disease in pltkit.diseases.keys():\n",
    "    erf_dic[disease] = pd.read_csv(f'{wdir}\\\\data\\\\Response_Functions\\\\erf_reformatted2\\\\erf_{disease}.csv', index_col=[1,2])"
   ]
  },
  {
   "cell_type": "code",
   "execution_count": null,
   "metadata": {},
   "outputs": [],
   "source": [
    "plt.rcParams[\"axes.prop_cycle\"] = plt.cycler(\"color\", plt.cm.magma(np.linspace(0,1,23)))\n",
    "\n",
    "fig, axs = plt.subplots(2,4, figsize=(18,8))#, dpi=300)\n",
    "axs = axs.flatten()\n",
    "\n",
    "for i, disease in enumerate(pltkit.relevant_diseases.keys()):\n",
    "    for tz in range(6,29):\n",
    "        axs[i].plot(erf_dic[disease].loc[tz].index, erf_dic[disease].loc[tz, 'rr'], label = tz)\n",
    "\n",
    "    pltkit.stylize_axes(axs[i], facecolor='whitesmoke', grid=True, grid_kwargs={'c':'white'}, title=f'{pltkit.relevant_diseases[disease]}', ylim=(0.9,2))\n",
    "    for i in [0,4]:\n",
    "        pltkit.stylize_axes(axs[i], ylabel='Relative Risk')\n",
    "    for i in range(4,8):\n",
    "        pltkit.stylize_axes(axs[i], xlabel='Daily temperature [°C]')\n",
    "    \n",
    "plt.legend(loc='upper center', bbox_to_anchor=(-1.3, -0.2), ncol=8, title = 'Temperature zones')"
   ]
  },
  {
   "cell_type": "markdown",
   "metadata": {},
   "source": [
    "#### Shifting horizontally ERF"
   ]
  },
  {
   "cell_type": "code",
   "execution_count": null,
   "metadata": {},
   "outputs": [],
   "source": [
    "fig, axs = plt.subplots(2,4, figsize=(18,8))#, dpi=300)\n",
    "axs = axs.flatten()\n",
    "\n",
    "for i, disease in enumerate(pltkit.relevant_diseases.keys()):\n",
    "    for tz in range(6,29):\n",
    "        x = erf_dic[disease].loc[tz].index.values        # valores de temperatura\n",
    "        y = erf_dic[disease].loc[tz, 'rr'].values        # riesgo relativo\n",
    "\n",
    "        x_shift = x - x[np.argmin(y)]                    # trasladar mínimo a 0\n",
    "        axs[i].plot(x_shift, y, label=tz)\n",
    "\n",
    "    pltkit.stylize_axes(axs[i], facecolor='whitesmoke', grid=True, grid_kwargs={'c':'white'}, title=f'{pltkit.relevant_diseases[disease]}', ylim=(0.9,2))\n",
    "    for i in [0,4]:\n",
    "        pltkit.stylize_axes(axs[i], ylabel='Relative Risk')\n",
    "    for i in range(4,8):\n",
    "        pltkit.stylize_axes(axs[i], xlabel='$\\Delta$ Daily temperature [°C]')\n",
    "    \n",
    "plt.legend(loc='upper center', bbox_to_anchor=(-1.3, -0.2), ncol=8, title = 'Temperature zones')"
   ]
  },
  {
   "cell_type": "markdown",
   "metadata": {},
   "source": [
    "#### Rough examination of the mean TMREL vs TZ"
   ]
  },
  {
   "cell_type": "code",
   "execution_count": null,
   "metadata": {},
   "outputs": [],
   "source": [
    "mpl.rcParams[\"axes.prop_cycle\"] = mpl.rcParamsDefault[\"axes.prop_cycle\"]\n",
    "fig, ax = plt.subplots(1, 1)  # , dpi=300\n",
    "\n",
    "for i, disease in enumerate(pltkit.relevant_diseases.keys()):\n",
    "    tzs = []\n",
    "    tmrels = []\n",
    "    for tz in range(6, 29):\n",
    "        rr_min = np.argmin(erf_dic[disease].loc[tz, 'rr'].values)\n",
    "        tmrel = erf_dic[disease].loc[tz].index.values[rr_min]\n",
    "        tzs.append(tz)\n",
    "        tmrels.append(tmrel)\n",
    "    \n",
    "    ax.scatter(tzs, tmrels, c=[pltkit.original_colors[i]], s=5, label=pltkit.relevant_diseases[disease])\n",
    "\n",
    "ax.legend(fontsize=8)\n",
    "ax.grid()"
   ]
  },
  {
   "cell_type": "markdown",
   "metadata": {},
   "source": [
    "#### Extrapolating ERF"
   ]
  },
  {
   "cell_type": "code",
   "execution_count": null,
   "metadata": {},
   "outputs": [],
   "source": [
    "start_graph = -20\n",
    "end_graph = 50\n",
    "\n",
    "interp_hot_dic = defaultdict(dict); interp_cold_dic = defaultdict(dict)\n",
    "xnew_hot_dic = defaultdict(dict); ynew_hot_dic = defaultdict(dict)\n",
    "xnew_cold_dic = defaultdict(dict); ynew_cold_dic = defaultdict(dict)\n",
    "\n",
    "for disease in pltkit.relevant_diseases.keys():\n",
    "    for tz in range(6,29):        \n",
    "        xnew_hot_dic[disease][tz], ynew_hot_dic[disease][tz], xnew_cold_dic[disease][tz], ynew_cold_dic[disease][tz] = pltkit.interpolate_erf(start_graph, end_graph, erf_dic[disease], tz)\n",
    "\n",
    "\n",
    "tz_values = list(range(6, 29))  # 6 a 28 inclusive\n",
    "colors = plt.cm.magma(np.linspace(0, 1, len(tz_values)))\n",
    "tz_color_map = {tz: color for tz, color in zip(tz_values, colors)}\n",
    "\n",
    "fig, axs = plt.subplots(2,4, figsize=(18,8))#, dpi=300)\n",
    "axs = axs.flatten()\n",
    "\n",
    "for i, disease in enumerate(pltkit.relevant_diseases.keys()):\n",
    "    for tz in range(6,29):\n",
    "        color = tz_color_map[tz]\n",
    "        axs[i].plot(erf_dic[disease].loc[tz].index, erf_dic[disease].loc[tz, 'rr'], label = tz, color=color)\n",
    "        axs[i].plot(xnew_hot_dic[disease][tz], ynew_hot_dic[disease][tz], '--', color=color)\n",
    "        axs[i].plot(xnew_cold_dic[disease][tz], ynew_cold_dic[disease][tz], '--', color=color)\n",
    "        \n",
    "    pltkit.stylize_axes(axs[i], facecolor='whitesmoke', grid=True, grid_kwargs={'c':'white'}, title=f'{pltkit.relevant_diseases[disease]}', ylim=(0.9,5))\n",
    "    for i in [0,4]:\n",
    "        axs[i].set_ylabel('Relative Risk')\n",
    "    for i in range(4,8):\n",
    "        axs[i].set_xlabel('Daily temperature [°C]')\n",
    " \n",
    "plt.legend(loc='upper center', bbox_to_anchor=(-1.3, -0.2), ncol=8, title = 'Temperature zones')"
   ]
  },
  {
   "cell_type": "markdown",
   "metadata": {},
   "source": [
    "### Initial plots "
   ]
  },
  {
   "cell_type": "code",
   "execution_count": null,
   "metadata": {},
   "outputs": [],
   "source": [
    "### AR6 pathways\n",
    "ar6 = pd.read_csv('X:\\\\user\\\\dekkerm\\\\Data\\\\AR6_snapshots\\\\AR6_snapshot_Nayeli_global.csv')\n",
    "cc_path_mean = ar6.iloc[:, 10:-1].groupby(ar6['Category']).mean()\n",
    "cc_path_std = ar6.iloc[:, 10:-1].groupby(ar6['Category']).std()\n",
    "\n",
    "fig, ax = plt.subplots(figsize=(8, 5))\n",
    "for i,categories in enumerate(ar6['Category'].unique()):\n",
    "    plt.plot(cc_path_mean.columns, cc_path_mean.loc[categories], label=categories, color=pltkit.original_colors[i])\n",
    "    plt.fill_between(cc_path_mean.columns, cc_path_mean.loc[categories] - 2*cc_path_std.loc[categories], cc_path_mean.loc[categories] + 2*cc_path_std.loc[categories], \n",
    "                     color=pltkit.original_colors[i], alpha=0.2)\n",
    "ax.set_xticks(cc_path_mean.columns[::10])\n",
    "pltkit.stylize_plot(title='CC pathways - AR6 \\n(2std uncertainty range)', ylabel='GMST anomaly (°C)', xlabel='Year', legend=True, show=True)"
   ]
  },
  {
   "cell_type": "code",
   "execution_count": null,
   "metadata": {},
   "outputs": [],
   "source": [
    "# Temperature zone\n",
    "era5_tz = xr.open_dataset('X:\\\\user\\\\liprandicn\\\\Health Impacts Model\\\\ClimateData\\\\ERA5\\\\ERA5_mean_1980-2019_land_t2m_tz.nc')\n",
    "fig = plt.figure(figsize=(10,5), dpi=300)\n",
    "ax = fig.add_subplot(111, projection=ccrs.PlateCarree(central_longitude=0), frameon=False)\n",
    "ax.coastlines(resolution='10m', lw = 0.1)\n",
    "era5_tz.t2m.plot(ax=ax, transform=ccrs.PlateCarree(), cbar_kwargs = {'orientation': 'horizontal', 'shrink':0.6, 'pad':0.05, 'aspect':20, 'label':'Temperature zones'},\n",
    "                 vmin=6, vmax=28, cmap = 'cividis')"
   ]
  },
  {
   "cell_type": "code",
   "execution_count": null,
   "metadata": {},
   "outputs": [],
   "source": [
    "# Example of daily temperature generation\n",
    "year = 2020\n",
    "std = 5\n",
    "ccategory = 'C1'\n",
    "noise, noise_leap = create_noise(std)\n",
    "gcm_diff, gcm_start, gcm_end, cc_path_mean = read_climate_data()\n",
    "daily_temp, num_days = daily_temp_interp('C1', year, cc_path_mean, gcm_diff, gcm_start, gcm_end, noise, noise_leap)\n",
    "daily_temp = xr.DataArray(daily_temp, dims=[\"lat\", \"lon\", 'time'], \n",
    "                          coords={\"lat\": era5_tz.latitude.values, 'lon': era5_tz.longitude.values, 'time': pd.date_range(start=f'01/01/{year}', end=f'31/12/{year}')})\n",
    "\n",
    "fig = plt.figure(figsize=(10,5), dpi=300)\n",
    "ax = fig.add_subplot(111, projection=ccrs.PlateCarree(central_longitude=0), frameon=False)\n",
    "ax.coastlines(resolution='10m', lw = 0.1)\n",
    "daily_temp.isel(time=0).plot(ax=ax, cbar_kwargs = {'orientation': 'horizontal', 'shrink':0.6, 'pad':0.05, 'aspect':20, 'label':'Daily temperature [°C]'},\n",
    "                 cmap = 'coolwarm', vmin=-30, vmax=50) "
   ]
  },
  {
   "cell_type": "code",
   "execution_count": null,
   "metadata": {},
   "outputs": [],
   "source": [
    "fig = plt.figure(figsize=(10,5), dpi=300)\n",
    "ax = fig.add_subplot(111, projection=ccrs.PlateCarree(central_longitude=0), frameon=False)\n",
    "ax.coastlines(resolution='10m', lw = 0.1)\n",
    "daily_temp.isel(time=0).plot(ax=ax, cbar_kwargs = {'orientation': 'horizontal', 'shrink':0.6, 'pad':0.05, 'aspect':20, 'label':'Daily temperature [°C]'},\n",
    "                 cmap = 'coolwarm', vmin=-30, vmax=50) "
   ]
  },
  {
   "cell_type": "code",
   "execution_count": null,
   "metadata": {},
   "outputs": [],
   "source": [
    "# Example of daily RR \n",
    "disease = 'resp_copd'\n",
    "day = 1\n",
    "erf = pd.read_csv(f'{wdir}\\\\ResponseFunctions\\\\erf_reformatted\\\\erf_{disease}_mean.csv', header=None).to_numpy()\n",
    "day_rr = get_daily_rr(era5_tz.t2m.values, daily_temp.values[:,:,day], erf)\n",
    "day_rr = xr.DataArray(day_rr, dims=[\"lat\", \"lon\"], \n",
    "                          coords={\"lat\": era5_tz.latitude.values, 'lon': era5_tz.longitude.values})\n",
    "day_rr.plot(cmap = 'Purples', vmax=1.4)  "
   ]
  },
  {
   "cell_type": "markdown",
   "metadata": {},
   "source": [
    "### Plots comparing methods"
   ]
  },
  {
   "cell_type": "code",
   "execution_count": 3,
   "metadata": {},
   "outputs": [],
   "source": [
    "# Open excel created with data from Zhao et al. 2021\n",
    "zhao_df = pd.read_excel(f'{wdir}\\\\analysis\\\\zhao2021_tab1.xlsx', header=[0,1], index_col=0)\n",
    "regions_class = pd.read_excel(f'{wdir}\\\\data\\\\IMAGE_regions\\\\regions_comparisson.xlsx')"
   ]
  },
  {
   "cell_type": "code",
   "execution_count": 4,
   "metadata": {},
   "outputs": [],
   "source": [
    "# Load GBD mortality data\n",
    "gbd_df = pd.read_csv(f'{wdir}\\\\data\\\\GBD_data\\\\Mortality\\\\IHME-GBD_2021_DATA.csv')"
   ]
  },
  {
   "cell_type": "code",
   "execution_count": 11,
   "metadata": {},
   "outputs": [],
   "source": [
    "# Load approach 1 results\n",
    "\n",
    "gbd_ = gbd_df[\n",
    "    (gbd_df['cause_name'].isin(pltkit.diseases.values())) &\n",
    "    (gbd_df['sex_name'] == 'Both') &\n",
    "    (gbd_df['year'].isin(range(2000, 2020))) &\n",
    "    (gbd_df['age_name'] == 'All ages') &\n",
    "    (gbd_df['location_name'] != 'Global')][['location_id', 'location_name', 'cause_name', 'year', 'val', 'upper', 'lower']]\t\n",
    "gbd_['year']=gbd_['year'].astype(int)\n",
    "\n",
    "app1 = pd.read_csv(f'{wdir}\\\\output\\\\paf_era5_GBD_level3_all-dis_1erf_2000-2019.csv', header=[0,1,2], index_col=[0])\n",
    "app2 = pd.read_csv(f'{wdir}\\\\output\\\\paf_era5_GBD_level3_all-dis_2000-2019.csv', header=[0,1,2], index_col=[0])\n",
    "app3 = pd.read_csv(f'{wdir}\\\\output\\\\paf_era5_GBD_level3_all-dis_extrap_2000-2019.csv', header=[0,1,2], index_col=[0])\n",
    "app4 = pd.read_csv(f'{wdir}\\\\output\\\\paf_era5_GBD_level3_all-dis_1erf_extrap_2000-2019.csv', header=[0,1,2], index_col=[0])\n",
    "\n",
    "def process_app(app):\n",
    "    \n",
    "    # Select deaths from both heat and cold\n",
    "    app = app.xs('all', level=2, axis=1)\n",
    "    # Stack dataframe to have location, year, cause_key as index and paf as column\n",
    "    app = app.stack(level=[0,1], future_stack=True).reset_index().rename(columns={'level_0':'location_id', 'level_1':'year', 'level_2':'cause_key', 0:'paf'})\n",
    "    # Map diseases names with keys\n",
    "    app['cause_name'] = app['cause_key'].map({k:v for k,v in pltkit.diseases.items()})\n",
    "    app['year'] = app['year'].astype(int)\n",
    "    # Merge with mortality data\n",
    "    app = app.merge(gbd_, on=['location_id', 'cause_name', 'year'], how='left')\n",
    "    # Calculate deaths attributable to temperature\n",
    "    app['mean'] = app['val'] * app['paf'] \n",
    "    app['upper_est'] = app['upper'] * app['paf'] \n",
    "    app['lower_est'] = app['lower'] * app['paf'] \n",
    "    app = app[['year', 'cause_name', 'location_name', 'mean', 'upper_est', 'lower_est']]  \n",
    "    # Merge with regions classification\n",
    "    app = app.merge(regions_class[['gbd_level3_mor', 'continents']], left_on='location_name', right_on='gbd_level3_mor', how='left')\n",
    "    app = app.groupby(['year','continents']).sum().reset_index()[['continents', 'year', 'mean', 'upper_est', 'lower_est']]\n",
    "    app = app.groupby(['continents']).mean().reset_index()\n",
    "    \n",
    "    return app\n",
    "\n",
    "app1 = process_app(app1)\n",
    "app2 = process_app(app2)\n",
    "app3 = process_app(app3)\n",
    "app4 = process_app(app4)"
   ]
  },
  {
   "cell_type": "code",
   "execution_count": null,
   "metadata": {},
   "outputs": [],
   "source": [
    "import plotly.graph_objects as go\n",
    "\n",
    "df0 = zhao_df.xs('overall', axis=1, level=0).iloc[1:,:]\n",
    "df1 = app1.set_index('continents').loc[df0.index]\n",
    "df2 = app2.set_index('continents').loc[df0.index]\n",
    "df3 = app3.set_index('continents').loc[df0.index]\n",
    "df4 = app4.set_index('continents').loc[df0.index]\n",
    "\n",
    "fig = go.Figure()\n",
    "\n",
    "fig.add_trace(go.Scatter(\n",
    "    x=df0.index,\n",
    "    y=df0[\"mean\"],\n",
    "    mode=\"markers\",\n",
    "    name = 'Zhao et al. 2021',\n",
    "    error_y=dict(\n",
    "        type=\"data\",\n",
    "        symmetric=False,\n",
    "        array=df0[\"p95\"] - df0[\"mean\"],\n",
    "        arrayminus=df0[\"mean\"] - df0[\"p5\"]\n",
    "    ),\n",
    "    marker=dict(size=10, color=\"cadetblue\")\n",
    "))\n",
    "\n",
    "dfs = [df1, df2, df3]#, df4]\n",
    "names = ['GBD (1ERF)', 'GBD', 'GBD (ext)']#, 'GBD (1ERF & ext)']\n",
    "colors = ['lightcoral', 'sienna', 'rosybrown']#, 'darkorange']\n",
    "\n",
    "for df, name, color in zip(dfs, names, colors):\n",
    "\n",
    "    fig.add_trace(go.Scatter(\n",
    "        x=df.index,\n",
    "        y=df[\"mean\"],\n",
    "        mode=\"markers\",\n",
    "        name = name,\n",
    "        error_y=dict(\n",
    "            type=\"data\",\n",
    "            symmetric=False,\n",
    "            array=df[\"upper_est\"] - df[\"mean\"],\n",
    "            arrayminus=df[\"mean\"] - df[\"lower_est\"]\n",
    "        ),\n",
    "        marker=dict(size=10, color=color)\n",
    "    ))\n",
    "\n",
    "\n",
    "fig.update_layout(\n",
    "    title=\"Estimation including 5–95% range\",\n",
    "    yaxis_title=\"Average annual deaths (2000-2019)\",\n",
    "    xaxis_title=\"Continent\",\n",
    "    height=500,\n",
    "    width=700,\n",
    ")\n",
    "\n",
    "fig.show()"
   ]
  },
  {
   "cell_type": "code",
   "execution_count": null,
   "metadata": {},
   "outputs": [],
   "source": []
  }
 ],
 "metadata": {
  "kernelspec": {
   "display_name": "clone_imagepy312_base",
   "language": "python",
   "name": "python3"
  },
  "language_info": {
   "codemirror_mode": {
    "name": "ipython",
    "version": 3
   },
   "file_extension": ".py",
   "mimetype": "text/x-python",
   "name": "python",
   "nbconvert_exporter": "python",
   "pygments_lexer": "ipython3",
   "version": "3.12.7"
  }
 },
 "nbformat": 4,
 "nbformat_minor": 2
}
