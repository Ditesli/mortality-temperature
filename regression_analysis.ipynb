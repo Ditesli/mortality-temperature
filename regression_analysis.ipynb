{
 "cells": [
  {
   "cell_type": "code",
   "execution_count": 1,
   "metadata": {},
   "outputs": [],
   "source": [
    "import pltkit\n",
    "import numpy as np\n",
    "import pandas as pd\n",
    "import plotly.express as px\n",
    "import statsmodels.api as sm\n",
    "import matplotlib.pyplot as plt\n",
    "from sklearn.model_selection import train_test_split\n",
    "from  process_covariates import generate_panel_data, ssp_sdi\n",
    "from statsmodels.stats.outliers_influence import variance_inflation_factor as VIF\n",
    "\n",
    "wdir = 'X:\\\\user\\\\liprandicn\\\\Health Impacts Model'"
   ]
  },
  {
   "cell_type": "markdown",
   "metadata": {},
   "source": [
    "### Open and explore data"
   ]
  },
  {
   "cell_type": "code",
   "execution_count": null,
   "metadata": {},
   "outputs": [],
   "source": [
    "# Load data (gdp, education, fertility, GINI and mortality) from 1980-2019\n",
    "variables = generate_panel_data(wdir)\n",
    "variables = variables[variables['cause'].isin(pltkit.diseases_level2)]"
   ]
  },
  {
   "cell_type": "code",
   "execution_count": null,
   "metadata": {},
   "outputs": [],
   "source": [
    "country_df = variables[(variables['cause']=='Cardiovascular diseases') & (variables['age_group']=='5-14') & (variables['sex']=='Female')]\n",
    "fig = px.scatter(country_df, x='GINI', y='logmortality', color='year', hover_data='country', height=500, width=700)\n",
    "fig.update_layout(showlegend=False)\n",
    "fig.show()"
   ]
  },
  {
   "cell_type": "markdown",
   "metadata": {},
   "source": [
    "### Regression analysis: Finding the best covariates"
   ]
  },
  {
   "cell_type": "code",
   "execution_count": 37,
   "metadata": {},
   "outputs": [],
   "source": [
    "def ols_errors(mortality, df_disease, predictors_set):\n",
    "    \n",
    "    sex_groups = ['Female', 'Male']\n",
    "    \n",
    "    ages = ['0-5', '5-9','10-14','15-19','20-24','25-29','30-34','35-39','40-44',\n",
    "                '45-49','50-54','55-59','60-64','65-69','70-74','75-79','80-84', '85+']\n",
    "    age_groups = ['0-4', '15-24', '25-34', '35-44', '45-54', '5-14', '55-64', '65-74', '75-84', '85+']\n",
    "        \n",
    "    errors_age = pd.DataFrame(index=pd.MultiIndex.from_product([sex_groups, ages]),\n",
    "                              columns = pd.MultiIndex.from_product([['RMSE', 'MAPE', 'RSS'], range(len(predictors_set))]))\n",
    "    \n",
    "    for sex_group in sex_groups:\n",
    "        \n",
    "        for age in ages:\n",
    "            \n",
    "            df = df_disease[(df_disease['age']==age)]# & (df_disease['sex']==sex_group)]\n",
    "            \n",
    "            if df.empty:\n",
    "                continue\n",
    "            \n",
    "            # Set number of iterations\n",
    "            iterations = 35\n",
    "            \n",
    "            # Where results will be stored\n",
    "            errors_df = pd.DataFrame(index = range(iterations), columns = pd.MultiIndex.from_product([['RMSE', 'MAPE', 'RSS'], range(len(predictors_set))]))\n",
    "            \n",
    "            # Iterate ovevr all covariates combinations\n",
    "            for i, predictor_set in enumerate(predictors_set):\n",
    "                # Compute error several times to avoid error outliers\n",
    "                for j in range(iterations):\n",
    "\n",
    "                    # Divide dataset into training and validation using 80/20 split\n",
    "                    train_df, val_df = train_test_split(df, test_size=0.2)\n",
    "\n",
    "                    # Fit OLS model for training data\n",
    "                    X_train = train_df[predictor_set]\n",
    "                    X_train = sm.add_constant(X_train)\n",
    "                    y_train = train_df[mortality]\n",
    "                    model = sm.OLS(y_train, X_train).fit()\n",
    "\n",
    "                    # Validate model on validation data\n",
    "                    X_valid = val_df[predictor_set]\n",
    "                    X_valid = sm.add_constant(X_valid)\n",
    "                    y_valid = val_df[mortality]\n",
    "                    y_pred = model.predict(X_valid)\n",
    "\n",
    "                    # Store errors\n",
    "                    errors_df.loc[j, ('RMSE',i)] = np.round(pltkit.rmse(y_valid, y_pred),3)\n",
    "                    errors_df.loc[j, ('MAPE',i)] = np.round(pltkit.mape(y_valid, y_pred),3)\n",
    "                    errors_df.loc[j, ('RSS',i)] = np.round(pltkit.rss(y_valid, y_pred),3)\n",
    "                    \n",
    "            errors_age.loc[(sex_group, age), :] = errors_df.mean(axis=0)\n",
    "            \n",
    "    return errors_age"
   ]
  },
  {
   "cell_type": "code",
   "execution_count": null,
   "metadata": {},
   "outputs": [],
   "source": [
    "variables.cause.unique()"
   ]
  },
  {
   "cell_type": "code",
   "execution_count": 96,
   "metadata": {},
   "outputs": [],
   "source": [
    "disease = 'All causes'\n",
    "df = variables[(variables['cause']==disease) &\n",
    "               (~variables['loggdplag'].isna()) & (~variables['education'].isna()) & (~variables['fertility'].isna()) & \n",
    "               (~variables['GINI'].isna()) & (~variables['sdi'].isna())]\n",
    "\n",
    "predictors = [#['gdppc', 'education', 'fertility', 'year'],\n",
    "             # ['gdppc', 'gdppc_2', 'education', 'fertility', 'year'],\n",
    "              ['loggdppc', 'education', 'TFU25', 'year'],\n",
    "              ['loggdppc', 'loggdppc_2', 'education', 'TFU25', 'year'],\n",
    "              ['loggdppc', 'loggdppc_2', 'education', 'TFU25', 'year', 'GINI'],\n",
    "              ['loggdplag', 'loggdplag_2', 'education', 'TFU25', 'year', 'GINI'],\n",
    "              ['loggdplag', 'education', 'TFU25', 'year'],\n",
    "              ['loggdplag', 'education', 'TFU25', 'year', 'GINI'],\n",
    "              ['sdi', 'year'],\n",
    "              ]\n",
    "\n",
    "errors_df = ols_errors('logmortality', df, predictors)"
   ]
  },
  {
   "cell_type": "code",
   "execution_count": null,
   "metadata": {},
   "outputs": [],
   "source": [
    "labels = ['Intercept' if len(p) == 0 else ' + '.join(p) for p in predictors]\n",
    "\n",
    "fig, axes = plt.subplots(2,3, figsize=(15,10))\n",
    "\n",
    "for i,sex in enumerate(['Female', 'Male']):\n",
    "    for j,error in enumerate(['MAPE', 'RMSE', 'RSS']):\n",
    "        for column,label in zip(range(len(predictors)),labels):\n",
    "            axes[i,j].plot(errors_df.index.levels[1], errors_df.loc[sex, (error,column)], label=label)\n",
    "        axes[i,j].set_title(error)\n",
    "        axes[i,j].set_ylabel(error)\n",
    "        axes[i,j].set_xlabel('Iteration')\n",
    "        axes[i,j].tick_params('x', rotation=45)\n",
    "\n",
    "plt.legend(loc='upper center', bbox_to_anchor=(-0.7, -0.15), ncol=1)\n",
    "plt.ylabel('MAPE')\n",
    "plt.xlabel('Iteration')\n",
    "plt.suptitle(disease)"
   ]
  },
  {
   "cell_type": "markdown",
   "metadata": {},
   "source": [
    "### Parameter computation"
   ]
  },
  {
   "cell_type": "code",
   "execution_count": 8,
   "metadata": {},
   "outputs": [],
   "source": [
    "def get_regression_coef(variables, causes, covariates, name):\n",
    "\n",
    "    # age_groups = ['0-4', '5-9','10-14','15-19','20-24','25-29','30-34','35-39','40-44',\n",
    "    #             '45-49','50-54','55-59','60-64','65-69','70-74','75-79','80-84', '85+']\n",
    "    age_groups = ['0-4', '15-24', '25-34', '35-44', '45-54', '5-14', '55-64', '65-74', '75-84', '85+']\n",
    "    sex_groups = ['Female', 'Male']\n",
    "\n",
    "    params = pd.DataFrame(\n",
    "        index=pd.MultiIndex.from_product([causes,  sex_groups, age_groups], names=['cause', 'age_group', 'sex']),\n",
    "        columns=pd.MultiIndex.from_product([covariates, ['coeff', 'bse', 'pvalue']], names=['covariate', 'metric'])\n",
    "        ).sort_index().sort_index(axis=1)\n",
    "\n",
    "    variables_cleaned = variables.dropna(subset=covariates)\n",
    "\n",
    "    for cause in causes:\n",
    "        \n",
    "        print('Processing cause: ', cause)\n",
    "        \n",
    "        for age_group in age_groups:\n",
    "            for sex in sex_groups:\n",
    "                \n",
    "                df = variables_cleaned[(variables_cleaned['cause']==cause) & \n",
    "                                    (variables_cleaned['age_group']==age_group) & \n",
    "                                    (variables_cleaned['sex']==sex)]\n",
    "                \n",
    "                if df is None or df.empty:\n",
    "                    print(cause, age_group, sex, \" --> Empty dataframe. Skip.\")\n",
    "                    continue\n",
    "                \n",
    "                df = df.sort_index()\n",
    "\n",
    "                # Train 80-20 train set and average after 20 iterations:\n",
    "                coeff = []; bse = []; pval=[]; r2=[]\n",
    "                \n",
    "                for count in range(20):\n",
    "\n",
    "                    train_df,_= train_test_split(df, test_size=0.2)\n",
    "                    X_train = train_df[covariates]\n",
    "                    y_train = train_df['relative_mortality']\n",
    "                    X_train = sm.add_constant(X_train)\n",
    "                    model = sm.OLS(y_train, X_train).fit()\n",
    "                    \n",
    "                    coeff.append(model.params.values[1:])\n",
    "                    bse.append(model.bse.values[1:])\n",
    "                    pval.append(model.pvalues.values[1:])\n",
    "                    r2.append(model.rsquared)\n",
    "                \n",
    "                coeff_array = np.array(coeff).mean(axis=0)\n",
    "                bse_array = np.array(bse).mean(axis=0)\n",
    "                pval_array = np.array(pval).mean(axis=0)\n",
    "                r2_mean = np.mean(r2)            \n",
    "                \n",
    "                for metric, array in zip(['coeff', 'bse', 'pvalue'], [coeff_array, bse_array, pval_array]):\n",
    "                    for cov, val in zip(covariates, array):\n",
    "                        params.loc[(cause, sex, age_group), (cov, metric)] = val\n",
    "\n",
    "                params.loc[(cause, sex, age_group), 'r2'] = r2_mean\n",
    "     \n",
    "    params.to_csv(f'{wdir}\\\\analysis\\\\regression_coefficients_{name}_WHO-groups.csv')"
   ]
  },
  {
   "cell_type": "code",
   "execution_count": null,
   "metadata": {},
   "outputs": [],
   "source": [
    "# covariates = ['loggdplag', 'education', 'TFU25', 'year', 'GINI']\n",
    "covariates = ['sdi', 'year']\n",
    "causes = ['Cardiovascular diseases', 'Chronic respiratory diseases', 'Diabetes and kidney diseases', 'Respiratory infections and tuberculosis']\n",
    "name = 'sdi'\n",
    "\n",
    "get_regression_coef(variables, causes, covariates, name)"
   ]
  },
  {
   "cell_type": "code",
   "execution_count": null,
   "metadata": {},
   "outputs": [],
   "source": [
    "df = variables[(variables['cause']=='Cardiovascular diseases') & (variables['age']=='0-4') & (variables['sex']=='Female') & (~variables['gdppc'].isna()) & (~variables['education'].isna()) & (~variables['TFR'].isna()) & (~variables['GINI'].isna())]\n",
    "y = df.pop('relative_mortality')\n",
    "predictors = ['loggdppc', 'loggdppc_2', 'education', 'TFR', 'year', 'GINI']\n",
    "X = sm.add_constant(df[predictors])\n",
    "model = sm.OLS(y, X)\n",
    "results = model.fit()\n",
    "print(results.summary())\n",
    "print('RSS:', pltkit.rss(results.fittedvalues, y))\n",
    "vif_data = pd.DataFrame()\n",
    "vif_data[\"variable\"] = X.columns\n",
    "vif_data[\"VIF\"] = [VIF(X.values, i) for i in range(X.shape[1])]\n",
    "print(vif_data)"
   ]
  },
  {
   "cell_type": "markdown",
   "metadata": {},
   "source": [
    "### Projections"
   ]
  },
  {
   "cell_type": "code",
   "execution_count": 34,
   "metadata": {},
   "outputs": [],
   "source": [
    "# Open coefficients files\n",
    "params_linear = pd.read_csv(f'{wdir}\\\\analysis\\\\regression_coefficients_linear_WHO-groups.csv', header=[0,1], index_col=[0,1,2])\n",
    "params_sdi = pd.read_csv(f'{wdir}\\\\analysis\\\\regression_coefficients_sdi_WHO-groups.csv', header=[0,1], index_col=[0,1,2])"
   ]
  },
  {
   "cell_type": "code",
   "execution_count": null,
   "metadata": {},
   "outputs": [],
   "source": [
    "params_sdi"
   ]
  },
  {
   "cell_type": "code",
   "execution_count": null,
   "metadata": {},
   "outputs": [],
   "source": [
    "params = params_sdi.loc['Cardiovascular diseases', params_sdi.columns.get_level_values(1) == 'coeff']\n",
    "params.columns = [f'{lvl0}_{lvl1}' for lvl0, lvl1 in params.columns]\n",
    "params = params.reset_index()  \n",
    "params\n"
   ]
  },
  {
   "cell_type": "code",
   "execution_count": null,
   "metadata": {},
   "outputs": [],
   "source": [
    "# Load Sociodemographic index\n",
    "sdi = ssp_sdi(wdir)"
   ]
  },
  {
   "cell_type": "code",
   "execution_count": 45,
   "metadata": {},
   "outputs": [],
   "source": [
    "df_cross = sdi.merge(params, how='cross')"
   ]
  },
  {
   "cell_type": "code",
   "execution_count": null,
   "metadata": {},
   "outputs": [],
   "source": [
    "df_cross['Mortality'] = -(df_cross['year'] * df_cross['year_coeff']) - (df_cross['sdi'] * df_cross['sdi_coeff'])"
   ]
  },
  {
   "cell_type": "code",
   "execution_count": null,
   "metadata": {},
   "outputs": [],
   "source": [
    "country = 'MEX'\n",
    "df = sdi[(sdi['Scenario']=='SSP2') & (sdi['Sex']=='Both')]\n",
    "fig = px.line(df, x='year', y='sdi', color='ISO3', title='Sociodemographic index projections for '+country, height=500, width=700)\n",
    "fig.show()"
   ]
  },
  {
   "cell_type": "code",
   "execution_count": null,
   "metadata": {},
   "outputs": [],
   "source": [
    "country = 'NLD'\n",
    "df_cross = df_cross[(df_cross['ISO3']==country) & (df_cross['Sex']=='Female') & (df_cross['sex']=='Female')]\n",
    "fig = px.scatter(df_cross, x='year', y='Mortality', color='age_group', title='Predicted mortality from Cardiovascular Diseases for '+country, height=500, width=700)\n",
    "fig.show()"
   ]
  },
  {
   "cell_type": "code",
   "execution_count": null,
   "metadata": {},
   "outputs": [],
   "source": [
    "df_cross"
   ]
  },
  {
   "cell_type": "code",
   "execution_count": null,
   "metadata": {},
   "outputs": [],
   "source": []
  }
 ],
 "metadata": {
  "kernelspec": {
   "display_name": "clone_imagepy312_base",
   "language": "python",
   "name": "python3"
  },
  "language_info": {
   "codemirror_mode": {
    "name": "ipython",
    "version": 3
   },
   "file_extension": ".py",
   "mimetype": "text/x-python",
   "name": "python",
   "nbconvert_exporter": "python",
   "pygments_lexer": "ipython3",
   "version": "3.12.7"
  }
 },
 "nbformat": 4,
 "nbformat_minor": 2
}
